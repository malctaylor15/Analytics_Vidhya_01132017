{
 "cells": [
  {
   "cell_type": "code",
   "execution_count": 2,
   "metadata": {},
   "outputs": [
    {
     "data": {
      "text/plain": [
       "<matplotlib.figure.Figure at 0x780dd600c950>"
      ]
     },
     "metadata": {},
     "output_type": "display_data"
    }
   ],
   "source": [
    "import pandas as pd\n",
    "import numpy as np\n",
    "import matplotlib.pyplot as plt \n",
    "%matplotlib inline\n",
    "fig = plt.figure(figsize=(18,6), dpi=1600) "
   ]
  },
  {
   "cell_type": "code",
   "execution_count": 3,
   "metadata": {},
   "outputs": [],
   "source": [
    "data_raw = pd.read_csv(\"train.csv\")"
   ]
  },
  {
   "cell_type": "code",
   "execution_count": 4,
   "metadata": {},
   "outputs": [
    {
     "data": {
      "text/html": [
       "<div>\n",
       "<style scoped>\n",
       "    .dataframe tbody tr th:only-of-type {\n",
       "        vertical-align: middle;\n",
       "    }\n",
       "\n",
       "    .dataframe tbody tr th {\n",
       "        vertical-align: top;\n",
       "    }\n",
       "\n",
       "    .dataframe thead th {\n",
       "        text-align: right;\n",
       "    }\n",
       "</style>\n",
       "<table border=\"1\" class=\"dataframe\">\n",
       "  <thead>\n",
       "    <tr style=\"text-align: right;\">\n",
       "      <th></th>\n",
       "      <th>ID</th>\n",
       "      <th>datetime</th>\n",
       "      <th>temperature</th>\n",
       "      <th>var1</th>\n",
       "      <th>pressure</th>\n",
       "      <th>windspeed</th>\n",
       "      <th>var2</th>\n",
       "      <th>electricity_consumption</th>\n",
       "    </tr>\n",
       "  </thead>\n",
       "  <tbody>\n",
       "    <tr>\n",
       "      <th>0</th>\n",
       "      <td>0</td>\n",
       "      <td>2013-07-01 00:00:00</td>\n",
       "      <td>-11.4</td>\n",
       "      <td>-17.1</td>\n",
       "      <td>1003.0</td>\n",
       "      <td>571.910</td>\n",
       "      <td>A</td>\n",
       "      <td>216.0</td>\n",
       "    </tr>\n",
       "    <tr>\n",
       "      <th>1</th>\n",
       "      <td>1</td>\n",
       "      <td>2013-07-01 01:00:00</td>\n",
       "      <td>-12.1</td>\n",
       "      <td>-19.3</td>\n",
       "      <td>996.0</td>\n",
       "      <td>575.040</td>\n",
       "      <td>A</td>\n",
       "      <td>210.0</td>\n",
       "    </tr>\n",
       "    <tr>\n",
       "      <th>2</th>\n",
       "      <td>2</td>\n",
       "      <td>2013-07-01 02:00:00</td>\n",
       "      <td>-12.9</td>\n",
       "      <td>-20.0</td>\n",
       "      <td>1000.0</td>\n",
       "      <td>578.435</td>\n",
       "      <td>A</td>\n",
       "      <td>225.0</td>\n",
       "    </tr>\n",
       "    <tr>\n",
       "      <th>3</th>\n",
       "      <td>3</td>\n",
       "      <td>2013-07-01 03:00:00</td>\n",
       "      <td>-11.4</td>\n",
       "      <td>-17.1</td>\n",
       "      <td>995.0</td>\n",
       "      <td>582.580</td>\n",
       "      <td>A</td>\n",
       "      <td>216.0</td>\n",
       "    </tr>\n",
       "    <tr>\n",
       "      <th>4</th>\n",
       "      <td>4</td>\n",
       "      <td>2013-07-01 04:00:00</td>\n",
       "      <td>-11.4</td>\n",
       "      <td>-19.3</td>\n",
       "      <td>1005.0</td>\n",
       "      <td>586.600</td>\n",
       "      <td>A</td>\n",
       "      <td>222.0</td>\n",
       "    </tr>\n",
       "  </tbody>\n",
       "</table>\n",
       "</div>"
      ],
      "text/plain": [
       "   ID             datetime  temperature  var1  pressure  windspeed var2  \\\n",
       "0   0  2013-07-01 00:00:00        -11.4 -17.1    1003.0    571.910    A   \n",
       "1   1  2013-07-01 01:00:00        -12.1 -19.3     996.0    575.040    A   \n",
       "2   2  2013-07-01 02:00:00        -12.9 -20.0    1000.0    578.435    A   \n",
       "3   3  2013-07-01 03:00:00        -11.4 -17.1     995.0    582.580    A   \n",
       "4   4  2013-07-01 04:00:00        -11.4 -19.3    1005.0    586.600    A   \n",
       "\n",
       "   electricity_consumption  \n",
       "0                    216.0  \n",
       "1                    210.0  \n",
       "2                    225.0  \n",
       "3                    216.0  \n",
       "4                    222.0  "
      ]
     },
     "execution_count": 4,
     "metadata": {},
     "output_type": "execute_result"
    }
   ],
   "source": [
    "data_raw.head()"
   ]
  },
  {
   "cell_type": "markdown",
   "metadata": {},
   "source": [
    "### Let's one hot encode var2"
   ]
  },
  {
   "cell_type": "code",
   "execution_count": 5,
   "metadata": {},
   "outputs": [
    {
     "data": {
      "text/plain": [
       "array(['A', 'B', 'C'], dtype=object)"
      ]
     },
     "execution_count": 5,
     "metadata": {},
     "output_type": "execute_result"
    }
   ],
   "source": [
    "np.unique(data_raw.var2)"
   ]
  },
  {
   "cell_type": "raw",
   "metadata": {},
   "source": [
    "# Get number of A B and C's\n",
    "data_raw.groupby(by = \"var2\").apply(np.count)"
   ]
  },
  {
   "cell_type": "code",
   "execution_count": 6,
   "metadata": {},
   "outputs": [
    {
     "name": "stdout",
     "output_type": "stream",
     "text": [
      "('Var2 shape:', (26496, 3))\n"
     ]
    }
   ],
   "source": [
    "var2_one_hot = pd.get_dummies(data_raw.var2)\n",
    "print(\"Var2 shape:\", var2_one_hot.shape)"
   ]
  },
  {
   "cell_type": "code",
   "execution_count": 7,
   "metadata": {},
   "outputs": [
    {
     "data": {
      "text/plain": [
       "A    25239\n",
       "B      217\n",
       "C     1040\n",
       "dtype: int64"
      ]
     },
     "execution_count": 7,
     "metadata": {},
     "output_type": "execute_result"
    }
   ],
   "source": [
    "var2_one_hot.sum()"
   ]
  },
  {
   "cell_type": "markdown",
   "metadata": {},
   "source": [
    "### Let's add the month as a 1 hot variable "
   ]
  },
  {
   "cell_type": "code",
   "execution_count": 8,
   "metadata": {},
   "outputs": [],
   "source": [
    "data_raw[\"month\"] = pd.DatetimeIndex(data_raw.datetime).month\n",
    "month_dummies = pd.get_dummies(data_raw[\"month\"], prefix = \"month\")"
   ]
  },
  {
   "cell_type": "markdown",
   "metadata": {},
   "source": [
    "### Combine the features with the original data "
   ]
  },
  {
   "cell_type": "code",
   "execution_count": 9,
   "metadata": {
    "scrolled": true
   },
   "outputs": [],
   "source": [
    "data_edit = data_raw.drop([\"var2\"], axis = 1)\n",
    "data_edit = data_edit.join(var2_one_hot)\n",
    "data_edit = data_edit.join(month_dummies)"
   ]
  },
  {
   "cell_type": "code",
   "execution_count": 10,
   "metadata": {},
   "outputs": [
    {
     "data": {
      "text/plain": [
       "['ID',\n",
       " 'datetime',\n",
       " 'temperature',\n",
       " 'var1',\n",
       " 'pressure',\n",
       " 'windspeed',\n",
       " 'electricity_consumption',\n",
       " 'month',\n",
       " 'A',\n",
       " 'B',\n",
       " 'C',\n",
       " 'month_1',\n",
       " 'month_2',\n",
       " 'month_3',\n",
       " 'month_4',\n",
       " 'month_5',\n",
       " 'month_6',\n",
       " 'month_7',\n",
       " 'month_8',\n",
       " 'month_9',\n",
       " 'month_10',\n",
       " 'month_11',\n",
       " 'month_12']"
      ]
     },
     "execution_count": 10,
     "metadata": {},
     "output_type": "execute_result"
    }
   ],
   "source": [
    "[item for item in data_edit.columns.tolist()]"
   ]
  },
  {
   "cell_type": "markdown",
   "metadata": {},
   "source": [
    "## Let's begin the ML Process"
   ]
  },
  {
   "cell_type": "code",
   "execution_count": 11,
   "metadata": {},
   "outputs": [],
   "source": [
    "from sklearn.model_selection import train_test_split"
   ]
  },
  {
   "cell_type": "code",
   "execution_count": 12,
   "metadata": {},
   "outputs": [],
   "source": [
    "keep_vars = [\"temperature\", \"var1\", \"pressure\", \"windspeed\", \"A\", \"B\", \"C\",\n",
    " 'month_1',\n",
    " 'month_2',\n",
    " 'month_3',\n",
    " 'month_4',\n",
    " 'month_5',\n",
    " 'month_6',\n",
    " 'month_7',\n",
    " 'month_8',\n",
    " 'month_9',\n",
    " 'month_10',\n",
    " 'month_11',\n",
    " 'month_12']"
   ]
  },
  {
   "cell_type": "code",
   "execution_count": 13,
   "metadata": {},
   "outputs": [],
   "source": [
    "X = data_edit[keep_vars]\n",
    "Y = data_edit[\"electricity_consumption\"]"
   ]
  },
  {
   "cell_type": "code",
   "execution_count": 14,
   "metadata": {},
   "outputs": [],
   "source": [
    "X_train, X_test, Y_train, Y_test = train_test_split(X, Y, test_size = 0.25, random_state = 1234, shuffle = True)\n",
    "# Do you want to have shuffle = False?"
   ]
  },
  {
   "cell_type": "markdown",
   "metadata": {},
   "source": [
    "## Begin Using Algorithms \n",
    "\n",
    "Random Forest Grid Search "
   ]
  },
  {
   "cell_type": "code",
   "execution_count": 15,
   "metadata": {},
   "outputs": [],
   "source": [
    "from sklearn.ensemble import RandomForestRegressor\n",
    "from sklearn.model_selection import RandomizedSearchCV"
   ]
  },
  {
   "cell_type": "code",
   "execution_count": 16,
   "metadata": {},
   "outputs": [],
   "source": [
    "np.random.seed(1234)\n",
    "param_dist = {\"n_estimators\": [10, 100, 200, 400], \n",
    "              \"max_depth\": [3, 6, None],\n",
    "              \"min_samples_split\": [10, 50, 100],\n",
    "              \"min_samples_leaf\": [3,7,11], \n",
    "              \"max_leaf_nodes\": [2,4, None],\n",
    "              \"max_features\": [None, 'auto', 'sqrt', 3]\n",
    "              }\n",
    "n_iter_search = 30"
   ]
  },
  {
   "cell_type": "code",
   "execution_count": 19,
   "metadata": {},
   "outputs": [],
   "source": [
    "rf1_random_search = RandomizedSearchCV(RandomForestRegressor(), param_distributions=param_dist,\n",
    "                                   n_iter=n_iter_search, cv = 3)"
   ]
  },
  {
   "cell_type": "code",
   "execution_count": 20,
   "metadata": {},
   "outputs": [
    {
     "data": {
      "text/plain": [
       "RandomizedSearchCV(cv=3, error_score='raise',\n",
       "          estimator=RandomForestRegressor(bootstrap=True, criterion='mse', max_depth=None,\n",
       "           max_features='auto', max_leaf_nodes=None,\n",
       "           min_impurity_decrease=0.0, min_impurity_split=None,\n",
       "           min_samples_leaf=1, min_samples_split=2,\n",
       "           min_weight_fraction_leaf=0.0, n_estimators=10, n_jobs=1,\n",
       "           oob_score=False, random_state=None, verbose=0, warm_start=False),\n",
       "          fit_params=None, iid=True, n_iter=30, n_jobs=1,\n",
       "          param_distributions={'n_estimators': [10, 100, 200, 400], 'max_features': [None, 'auto', 'sqrt', 3], 'max_depth': [3, 6, None], 'min_samples_leaf': [3, 7, 11]},\n",
       "          pre_dispatch='2*n_jobs', random_state=None, refit=True,\n",
       "          return_train_score='warn', scoring=None, verbose=0)"
      ]
     },
     "execution_count": 20,
     "metadata": {},
     "output_type": "execute_result"
    }
   ],
   "source": [
    "rf1_random_search.fit(X_train, Y_train)"
   ]
  },
  {
   "cell_type": "code",
   "execution_count": 21,
   "metadata": {},
   "outputs": [
    {
     "data": {
      "text/plain": [
       "['std_train_score',\n",
       " 'rank_test_score',\n",
       " 'mean_train_score',\n",
       " 'param_min_samples_leaf',\n",
       " 'param_max_depth',\n",
       " 'std_test_score',\n",
       " 'split1_train_score',\n",
       " 'split2_train_score',\n",
       " 'split0_test_score',\n",
       " 'mean_test_score',\n",
       " 'split0_train_score',\n",
       " 'param_max_features',\n",
       " 'std_score_time',\n",
       " 'params',\n",
       " 'std_fit_time',\n",
       " 'split2_test_score',\n",
       " 'param_n_estimators',\n",
       " 'mean_score_time',\n",
       " 'mean_fit_time',\n",
       " 'split1_test_score']"
      ]
     },
     "execution_count": 21,
     "metadata": {},
     "output_type": "execute_result"
    }
   ],
   "source": [
    "rf1_random_search.cv_results_.keys()"
   ]
  },
  {
   "cell_type": "code",
   "execution_count": 22,
   "metadata": {},
   "outputs": [
    {
     "data": {
      "text/plain": [
       "{'mean_test_score',\n",
       " 'mean_train_score',\n",
       " 'param_max_depth',\n",
       " 'param_max_features',\n",
       " 'param_min_samples_leaf',\n",
       " 'param_n_estimators',\n",
       " 'rank_test_score'}"
      ]
     },
     "execution_count": 22,
     "metadata": {},
     "output_type": "execute_result"
    }
   ],
   "source": [
    "wanted_grid_params = [\"mean_train_score\" ,\"mean_test_score\", \"param_n_estimators\", \"param_max_depth\", \n",
    "                      \"param_max_features\", \"param_min_samples_leaf\", \"rank_test_score\"]\n",
    "# Which params are in both lists \n",
    "set(wanted_grid_params) & set(rf1_random_search.cv_results_.keys())"
   ]
  },
  {
   "cell_type": "code",
   "execution_count": 32,
   "metadata": {
    "scrolled": true
   },
   "outputs": [
    {
     "data": {
      "text/html": [
       "<div>\n",
       "<style scoped>\n",
       "    .dataframe tbody tr th:only-of-type {\n",
       "        vertical-align: middle;\n",
       "    }\n",
       "\n",
       "    .dataframe tbody tr th {\n",
       "        vertical-align: top;\n",
       "    }\n",
       "\n",
       "    .dataframe thead th {\n",
       "        text-align: right;\n",
       "    }\n",
       "</style>\n",
       "<table border=\"1\" class=\"dataframe\">\n",
       "  <thead>\n",
       "    <tr style=\"text-align: right;\">\n",
       "      <th></th>\n",
       "      <th>mean_test_score</th>\n",
       "      <th>mean_train_score</th>\n",
       "      <th>param_max_depth</th>\n",
       "      <th>param_max_features</th>\n",
       "      <th>param_min_samples_leaf</th>\n",
       "      <th>param_n_estimators</th>\n",
       "      <th>rank_test_score</th>\n",
       "      <th>test_train_pct_diff</th>\n",
       "    </tr>\n",
       "  </thead>\n",
       "  <tbody>\n",
       "    <tr>\n",
       "      <th>2</th>\n",
       "      <td>0.375859</td>\n",
       "      <td>0.410918</td>\n",
       "      <td>6</td>\n",
       "      <td>auto</td>\n",
       "      <td>3</td>\n",
       "      <td>400</td>\n",
       "      <td>10</td>\n",
       "      <td>0.093275</td>\n",
       "    </tr>\n",
       "    <tr>\n",
       "      <th>10</th>\n",
       "      <td>0.375357</td>\n",
       "      <td>0.406961</td>\n",
       "      <td>6</td>\n",
       "      <td>auto</td>\n",
       "      <td>7</td>\n",
       "      <td>200</td>\n",
       "      <td>11</td>\n",
       "      <td>0.084197</td>\n",
       "    </tr>\n",
       "    <tr>\n",
       "      <th>12</th>\n",
       "      <td>0.374826</td>\n",
       "      <td>0.409758</td>\n",
       "      <td>6</td>\n",
       "      <td>None</td>\n",
       "      <td>3</td>\n",
       "      <td>400</td>\n",
       "      <td>12</td>\n",
       "      <td>0.093195</td>\n",
       "    </tr>\n",
       "    <tr>\n",
       "      <th>11</th>\n",
       "      <td>0.374639</td>\n",
       "      <td>0.404017</td>\n",
       "      <td>6</td>\n",
       "      <td>None</td>\n",
       "      <td>11</td>\n",
       "      <td>200</td>\n",
       "      <td>13</td>\n",
       "      <td>0.078418</td>\n",
       "    </tr>\n",
       "    <tr>\n",
       "      <th>27</th>\n",
       "      <td>0.371362</td>\n",
       "      <td>0.404760</td>\n",
       "      <td>6</td>\n",
       "      <td>None</td>\n",
       "      <td>3</td>\n",
       "      <td>10</td>\n",
       "      <td>14</td>\n",
       "      <td>0.089934</td>\n",
       "    </tr>\n",
       "    <tr>\n",
       "      <th>25</th>\n",
       "      <td>0.296953</td>\n",
       "      <td>0.315054</td>\n",
       "      <td>6</td>\n",
       "      <td>sqrt</td>\n",
       "      <td>7</td>\n",
       "      <td>200</td>\n",
       "      <td>15</td>\n",
       "      <td>0.060953</td>\n",
       "    </tr>\n",
       "    <tr>\n",
       "      <th>14</th>\n",
       "      <td>0.295187</td>\n",
       "      <td>0.313507</td>\n",
       "      <td>6</td>\n",
       "      <td>sqrt</td>\n",
       "      <td>7</td>\n",
       "      <td>400</td>\n",
       "      <td>16</td>\n",
       "      <td>0.062064</td>\n",
       "    </tr>\n",
       "    <tr>\n",
       "      <th>24</th>\n",
       "      <td>0.271469</td>\n",
       "      <td>0.288213</td>\n",
       "      <td>6</td>\n",
       "      <td>3</td>\n",
       "      <td>7</td>\n",
       "      <td>200</td>\n",
       "      <td>17</td>\n",
       "      <td>0.061679</td>\n",
       "    </tr>\n",
       "    <tr>\n",
       "      <th>16</th>\n",
       "      <td>0.269781</td>\n",
       "      <td>0.287887</td>\n",
       "      <td>6</td>\n",
       "      <td>3</td>\n",
       "      <td>3</td>\n",
       "      <td>100</td>\n",
       "      <td>18</td>\n",
       "      <td>0.067115</td>\n",
       "    </tr>\n",
       "    <tr>\n",
       "      <th>3</th>\n",
       "      <td>0.261609</td>\n",
       "      <td>0.279583</td>\n",
       "      <td>6</td>\n",
       "      <td>3</td>\n",
       "      <td>7</td>\n",
       "      <td>10</td>\n",
       "      <td>19</td>\n",
       "      <td>0.068708</td>\n",
       "    </tr>\n",
       "    <tr>\n",
       "      <th>21</th>\n",
       "      <td>0.255294</td>\n",
       "      <td>0.265457</td>\n",
       "      <td>6</td>\n",
       "      <td>3</td>\n",
       "      <td>11</td>\n",
       "      <td>10</td>\n",
       "      <td>20</td>\n",
       "      <td>0.039807</td>\n",
       "    </tr>\n",
       "    <tr>\n",
       "      <th>0</th>\n",
       "      <td>0.231260</td>\n",
       "      <td>0.241929</td>\n",
       "      <td>3</td>\n",
       "      <td>None</td>\n",
       "      <td>7</td>\n",
       "      <td>200</td>\n",
       "      <td>21</td>\n",
       "      <td>0.046134</td>\n",
       "    </tr>\n",
       "    <tr>\n",
       "      <th>29</th>\n",
       "      <td>0.225810</td>\n",
       "      <td>0.236957</td>\n",
       "      <td>3</td>\n",
       "      <td>None</td>\n",
       "      <td>11</td>\n",
       "      <td>10</td>\n",
       "      <td>22</td>\n",
       "      <td>0.049363</td>\n",
       "    </tr>\n",
       "    <tr>\n",
       "      <th>19</th>\n",
       "      <td>0.173469</td>\n",
       "      <td>0.179645</td>\n",
       "      <td>3</td>\n",
       "      <td>sqrt</td>\n",
       "      <td>11</td>\n",
       "      <td>400</td>\n",
       "      <td>23</td>\n",
       "      <td>0.035600</td>\n",
       "    </tr>\n",
       "    <tr>\n",
       "      <th>13</th>\n",
       "      <td>0.173313</td>\n",
       "      <td>0.178534</td>\n",
       "      <td>3</td>\n",
       "      <td>sqrt</td>\n",
       "      <td>3</td>\n",
       "      <td>100</td>\n",
       "      <td>24</td>\n",
       "      <td>0.030125</td>\n",
       "    </tr>\n",
       "  </tbody>\n",
       "</table>\n",
       "</div>"
      ],
      "text/plain": [
       "    mean_test_score  mean_train_score param_max_depth param_max_features  \\\n",
       "2          0.375859          0.410918               6               auto   \n",
       "10         0.375357          0.406961               6               auto   \n",
       "12         0.374826          0.409758               6               None   \n",
       "11         0.374639          0.404017               6               None   \n",
       "27         0.371362          0.404760               6               None   \n",
       "25         0.296953          0.315054               6               sqrt   \n",
       "14         0.295187          0.313507               6               sqrt   \n",
       "24         0.271469          0.288213               6                  3   \n",
       "16         0.269781          0.287887               6                  3   \n",
       "3          0.261609          0.279583               6                  3   \n",
       "21         0.255294          0.265457               6                  3   \n",
       "0          0.231260          0.241929               3               None   \n",
       "29         0.225810          0.236957               3               None   \n",
       "19         0.173469          0.179645               3               sqrt   \n",
       "13         0.173313          0.178534               3               sqrt   \n",
       "\n",
       "   param_min_samples_leaf param_n_estimators  rank_test_score  \\\n",
       "2                       3                400               10   \n",
       "10                      7                200               11   \n",
       "12                      3                400               12   \n",
       "11                     11                200               13   \n",
       "27                      3                 10               14   \n",
       "25                      7                200               15   \n",
       "14                      7                400               16   \n",
       "24                      7                200               17   \n",
       "16                      3                100               18   \n",
       "3                       7                 10               19   \n",
       "21                     11                 10               20   \n",
       "0                       7                200               21   \n",
       "29                     11                 10               22   \n",
       "19                     11                400               23   \n",
       "13                      3                100               24   \n",
       "\n",
       "    test_train_pct_diff  \n",
       "2              0.093275  \n",
       "10             0.084197  \n",
       "12             0.093195  \n",
       "11             0.078418  \n",
       "27             0.089934  \n",
       "25             0.060953  \n",
       "14             0.062064  \n",
       "24             0.061679  \n",
       "16             0.067115  \n",
       "3              0.068708  \n",
       "21             0.039807  \n",
       "0              0.046134  \n",
       "29             0.049363  \n",
       "19             0.035600  \n",
       "13             0.030125  "
      ]
     },
     "execution_count": 32,
     "metadata": {},
     "output_type": "execute_result"
    }
   ],
   "source": [
    "dict_temp = {x:rf1_random_search.cv_results_[x] for x in wanted_grid_params}\n",
    "search_results = pd.DataFrame(dict_temp)\n",
    "search_results[\"test_train_pct_diff\"] = (search_results.mean_train_score - search_results.mean_test_score)/ search_results.mean_test_score\n",
    "search_results[search_results.test_train_pct_diff < 0.10]\\\n",
    ".sort_values(by=[\"mean_test_score\"], ascending = False).head(15)"
   ]
  },
  {
   "cell_type": "code",
   "execution_count": 24,
   "metadata": {},
   "outputs": [
    {
     "name": "stdout",
     "output_type": "stream",
     "text": [
      "('Best Estimator Score according to sklearn', 0.46005379603111657)\n"
     ]
    },
    {
     "data": {
      "text/plain": [
       "RandomForestRegressor(bootstrap=True, criterion='mse', max_depth=None,\n",
       "           max_features='auto', max_leaf_nodes=None,\n",
       "           min_impurity_decrease=0.0, min_impurity_split=None,\n",
       "           min_samples_leaf=11, min_samples_split=2,\n",
       "           min_weight_fraction_leaf=0.0, n_estimators=100, n_jobs=1,\n",
       "           oob_score=False, random_state=None, verbose=0, warm_start=False)"
      ]
     },
     "execution_count": 24,
     "metadata": {},
     "output_type": "execute_result"
    }
   ],
   "source": [
    "print(\"Best Estimator Score according to sklearn\", rf1_random_search.best_score_)\n",
    "#rf_best = rf1_random_search.best_estimator_\n",
    "#rf_best"
   ]
  },
  {
   "cell_type": "markdown",
   "metadata": {},
   "source": [
    "### Refit the model"
   ]
  },
  {
   "cell_type": "code",
   "execution_count": 36,
   "metadata": {},
   "outputs": [],
   "source": [
    "rf_model_fit = RandomForestRegressor(max_depth=6, max_features='auto', min_samples_leaf=3, n_estimators=400).fit(X_train, Y_train)"
   ]
  },
  {
   "cell_type": "code",
   "execution_count": 40,
   "metadata": {},
   "outputs": [],
   "source": [
    "feat_imp = {feat:imp for (feat, imp) in zip(X_train.columns, rf_model_fit.feature_importances_)}"
   ]
  },
  {
   "cell_type": "code",
   "execution_count": 43,
   "metadata": {},
   "outputs": [
    {
     "data": {
      "text/plain": [
       "{'A': 0.00018917323931360878,\n",
       " 'B': 0.00014788633020117674,\n",
       " 'C': 9.4435652757077011e-06,\n",
       " 'month_1': 8.7580417223566919e-05,\n",
       " 'month_10': 0.00073958039324666601,\n",
       " 'month_11': 0.00014461105154081892,\n",
       " 'month_12': 0.00085924056971556297,\n",
       " 'month_2': 0.00027764525527672313,\n",
       " 'month_3': 0.00018915964942140565,\n",
       " 'month_4': 0.044971437253506809,\n",
       " 'month_5': 0.017351285324855106,\n",
       " 'month_6': 0.0058910104901041573,\n",
       " 'month_7': 0.019155369126155092,\n",
       " 'month_8': 0.04133936779536896,\n",
       " 'month_9': 0.061829943336394549,\n",
       " 'pressure': 0.011444320811342105,\n",
       " 'temperature': 0.28173865789882546,\n",
       " 'var1': 0.3694470444871033,\n",
       " 'windspeed': 0.14418724300512906}"
      ]
     },
     "execution_count": 43,
     "metadata": {},
     "output_type": "execute_result"
    }
   ],
   "source": [
    "feat_imp"
   ]
  },
  {
   "cell_type": "markdown",
   "metadata": {},
   "source": [
    "### Model Evaluation "
   ]
  },
  {
   "cell_type": "code",
   "execution_count": 44,
   "metadata": {},
   "outputs": [],
   "source": [
    "from sklearn.metrics import r2_score \n",
    "from sklearn.metrics import mean_absolute_error\n",
    "from sklearn.metrics import mean_squared_error"
   ]
  },
  {
   "cell_type": "code",
   "execution_count": 45,
   "metadata": {},
   "outputs": [],
   "source": [
    "y_train_pred = rf_model_fit.predict(X_train)"
   ]
  },
  {
   "cell_type": "code",
   "execution_count": 46,
   "metadata": {},
   "outputs": [],
   "source": [
    "train_r2 = r2_score(Y_train, y_train_pred) * 100\n",
    "train_rmse =  np.sqrt(mean_squared_error(Y_train, y_train_pred))"
   ]
  },
  {
   "cell_type": "code",
   "execution_count": 47,
   "metadata": {},
   "outputs": [
    {
     "name": "stdout",
     "output_type": "stream",
     "text": [
      "('Train R- squared ', 39.890458828466436)\n",
      "('Train RMSE: ', 83.936890772288706)\n"
     ]
    }
   ],
   "source": [
    "print(\"Train R- squared \", train_r2)  \n",
    "print(\"Train RMSE: \", train_rmse)"
   ]
  },
  {
   "cell_type": "markdown",
   "metadata": {},
   "source": [
    "### Let's evaluate the model on the train set"
   ]
  },
  {
   "cell_type": "code",
   "execution_count": 48,
   "metadata": {},
   "outputs": [],
   "source": [
    "y_test_preds = rf_model_fit.predict(X_test)"
   ]
  },
  {
   "cell_type": "code",
   "execution_count": 49,
   "metadata": {},
   "outputs": [],
   "source": [
    "test_r2 =  r2_score(Y_test, y_test_preds) * 100\n",
    "test_rmse = np.sqrt(mean_squared_error(Y_test, y_test_preds))"
   ]
  },
  {
   "cell_type": "code",
   "execution_count": 50,
   "metadata": {},
   "outputs": [
    {
     "name": "stdout",
     "output_type": "stream",
     "text": [
      "('Test R- squared ', 36.699642619497361)\n",
      "('Test RMSE: ', 85.353834827459565)\n"
     ]
    }
   ],
   "source": [
    "print(\"Test R- squared \", test_r2)  \n",
    "print(\"Test RMSE: \", test_rmse)"
   ]
  },
  {
   "cell_type": "code",
   "execution_count": 51,
   "metadata": {},
   "outputs": [
    {
     "data": {
      "text/plain": [
       "7.9989458699634213"
      ]
     },
     "execution_count": 51,
     "metadata": {},
     "output_type": "execute_result"
    }
   ],
   "source": [
    "# Percentage difference in R2 \n",
    "(train_r2 - test_r2)/train_r2 * 100"
   ]
  },
  {
   "cell_type": "code",
   "execution_count": 52,
   "metadata": {},
   "outputs": [
    {
     "data": {
      "text/plain": [
       "-1.6881064358398357"
      ]
     },
     "execution_count": 52,
     "metadata": {},
     "output_type": "execute_result"
    }
   ],
   "source": [
    "# Percentage difference RMSE \n",
    "(train_rmse - test_rmse)/train_rmse * 100"
   ]
  },
  {
   "cell_type": "markdown",
   "metadata": {},
   "source": [
    "### Prep the Test Set "
   ]
  },
  {
   "cell_type": "code",
   "execution_count": 59,
   "metadata": {},
   "outputs": [],
   "source": [
    "# Import Test set \n",
    "test_data = pd.read_csv(\"test.csv\")"
   ]
  },
  {
   "cell_type": "code",
   "execution_count": 60,
   "metadata": {},
   "outputs": [
    {
     "data": {
      "text/html": [
       "<div>\n",
       "<style scoped>\n",
       "    .dataframe tbody tr th:only-of-type {\n",
       "        vertical-align: middle;\n",
       "    }\n",
       "\n",
       "    .dataframe tbody tr th {\n",
       "        vertical-align: top;\n",
       "    }\n",
       "\n",
       "    .dataframe thead th {\n",
       "        text-align: right;\n",
       "    }\n",
       "</style>\n",
       "<table border=\"1\" class=\"dataframe\">\n",
       "  <thead>\n",
       "    <tr style=\"text-align: right;\">\n",
       "      <th></th>\n",
       "      <th>ID</th>\n",
       "      <th>datetime</th>\n",
       "      <th>temperature</th>\n",
       "      <th>var1</th>\n",
       "      <th>pressure</th>\n",
       "      <th>windspeed</th>\n",
       "      <th>var2</th>\n",
       "    </tr>\n",
       "  </thead>\n",
       "  <tbody>\n",
       "    <tr>\n",
       "      <th>0</th>\n",
       "      <td>552</td>\n",
       "      <td>2013-07-24 00:00:00</td>\n",
       "      <td>-10.0</td>\n",
       "      <td>-16.4</td>\n",
       "      <td>1011.0</td>\n",
       "      <td>263.280</td>\n",
       "      <td>A</td>\n",
       "    </tr>\n",
       "    <tr>\n",
       "      <th>1</th>\n",
       "      <td>553</td>\n",
       "      <td>2013-07-24 01:00:00</td>\n",
       "      <td>-10.0</td>\n",
       "      <td>-20.7</td>\n",
       "      <td>1011.0</td>\n",
       "      <td>267.175</td>\n",
       "      <td>A</td>\n",
       "    </tr>\n",
       "    <tr>\n",
       "      <th>2</th>\n",
       "      <td>554</td>\n",
       "      <td>2013-07-24 02:00:00</td>\n",
       "      <td>-10.7</td>\n",
       "      <td>-17.1</td>\n",
       "      <td>1003.0</td>\n",
       "      <td>269.555</td>\n",
       "      <td>A</td>\n",
       "    </tr>\n",
       "    <tr>\n",
       "      <th>3</th>\n",
       "      <td>555</td>\n",
       "      <td>2013-07-24 03:00:00</td>\n",
       "      <td>-13.6</td>\n",
       "      <td>-20.7</td>\n",
       "      <td>1008.0</td>\n",
       "      <td>273.060</td>\n",
       "      <td>A</td>\n",
       "    </tr>\n",
       "    <tr>\n",
       "      <th>4</th>\n",
       "      <td>556</td>\n",
       "      <td>2013-07-24 04:00:00</td>\n",
       "      <td>-10.7</td>\n",
       "      <td>-17.1</td>\n",
       "      <td>1006.0</td>\n",
       "      <td>1.765</td>\n",
       "      <td>A</td>\n",
       "    </tr>\n",
       "  </tbody>\n",
       "</table>\n",
       "</div>"
      ],
      "text/plain": [
       "    ID             datetime  temperature  var1  pressure  windspeed var2\n",
       "0  552  2013-07-24 00:00:00        -10.0 -16.4    1011.0    263.280    A\n",
       "1  553  2013-07-24 01:00:00        -10.0 -20.7    1011.0    267.175    A\n",
       "2  554  2013-07-24 02:00:00        -10.7 -17.1    1003.0    269.555    A\n",
       "3  555  2013-07-24 03:00:00        -13.6 -20.7    1008.0    273.060    A\n",
       "4  556  2013-07-24 04:00:00        -10.7 -17.1    1006.0      1.765    A"
      ]
     },
     "execution_count": 60,
     "metadata": {},
     "output_type": "execute_result"
    }
   ],
   "source": [
    "test_data.head()"
   ]
  },
  {
   "cell_type": "code",
   "execution_count": 61,
   "metadata": {},
   "outputs": [],
   "source": [
    "test_var2_onehot = pd.get_dummies(test_data.var2)\n",
    "test_month_onehot = pd.get_dummies(pd.DatetimeIndex(test_data.datetime).month, prefix = \"month\")"
   ]
  },
  {
   "cell_type": "code",
   "execution_count": 62,
   "metadata": {},
   "outputs": [],
   "source": [
    "test_data_edit = test_data.drop([\"var2\"], axis = 1)\n",
    "test_data_edit = test_data_edit.join(test_var2_onehot)\n",
    "test_data_edit = test_data_edit.join(test_month_onehot)\n",
    "test_data_edit = test_data_edit[keep_vars]"
   ]
  },
  {
   "cell_type": "code",
   "execution_count": 63,
   "metadata": {},
   "outputs": [
    {
     "data": {
      "text/plain": [
       "Index([u'temperature', u'var1', u'pressure', u'windspeed', u'A', u'B', u'C',\n",
       "       u'month_1', u'month_2', u'month_3', u'month_4', u'month_5', u'month_6',\n",
       "       u'month_7', u'month_8', u'month_9', u'month_10', u'month_11',\n",
       "       u'month_12'],\n",
       "      dtype='object')"
      ]
     },
     "execution_count": 63,
     "metadata": {},
     "output_type": "execute_result"
    }
   ],
   "source": [
    "test_data_edit.columns"
   ]
  },
  {
   "cell_type": "code",
   "execution_count": 64,
   "metadata": {},
   "outputs": [],
   "source": [
    "scores = rf_model_fit.predict(test_data_edit)\n"
   ]
  },
  {
   "cell_type": "code",
   "execution_count": null,
   "metadata": {},
   "outputs": [],
   "source": []
  },
  {
   "cell_type": "markdown",
   "metadata": {},
   "source": [
    "### Preparing to deliver scores "
   ]
  },
  {
   "cell_type": "code",
   "execution_count": 65,
   "metadata": {},
   "outputs": [],
   "source": [
    "submission_file = pd.read_csv(\"sample_submission_q0Q3I1Z.csv\")"
   ]
  },
  {
   "cell_type": "code",
   "execution_count": 66,
   "metadata": {},
   "outputs": [
    {
     "data": {
      "text/html": [
       "<div>\n",
       "<style scoped>\n",
       "    .dataframe tbody tr th:only-of-type {\n",
       "        vertical-align: middle;\n",
       "    }\n",
       "\n",
       "    .dataframe tbody tr th {\n",
       "        vertical-align: top;\n",
       "    }\n",
       "\n",
       "    .dataframe thead th {\n",
       "        text-align: right;\n",
       "    }\n",
       "</style>\n",
       "<table border=\"1\" class=\"dataframe\">\n",
       "  <thead>\n",
       "    <tr style=\"text-align: right;\">\n",
       "      <th></th>\n",
       "      <th>ID</th>\n",
       "      <th>electricity_consumption</th>\n",
       "    </tr>\n",
       "  </thead>\n",
       "  <tbody>\n",
       "  </tbody>\n",
       "</table>\n",
       "</div>"
      ],
      "text/plain": [
       "Empty DataFrame\n",
       "Columns: [ID, electricity_consumption]\n",
       "Index: []"
      ]
     },
     "execution_count": 66,
     "metadata": {},
     "output_type": "execute_result"
    }
   ],
   "source": [
    "submission_file.head()"
   ]
  },
  {
   "cell_type": "code",
   "execution_count": 67,
   "metadata": {},
   "outputs": [],
   "source": [
    "submission = pd.DataFrame({\"ID\" : test_data.ID, \"electricity_consumption\" : scores})\n",
    "#submission.columns = submission_file.columns"
   ]
  },
  {
   "cell_type": "code",
   "execution_count": 68,
   "metadata": {},
   "outputs": [
    {
     "data": {
      "text/html": [
       "<div>\n",
       "<style scoped>\n",
       "    .dataframe tbody tr th:only-of-type {\n",
       "        vertical-align: middle;\n",
       "    }\n",
       "\n",
       "    .dataframe tbody tr th {\n",
       "        vertical-align: top;\n",
       "    }\n",
       "\n",
       "    .dataframe thead th {\n",
       "        text-align: right;\n",
       "    }\n",
       "</style>\n",
       "<table border=\"1\" class=\"dataframe\">\n",
       "  <thead>\n",
       "    <tr style=\"text-align: right;\">\n",
       "      <th></th>\n",
       "      <th>ID</th>\n",
       "      <th>electricity_consumption</th>\n",
       "    </tr>\n",
       "  </thead>\n",
       "  <tbody>\n",
       "    <tr>\n",
       "      <th>0</th>\n",
       "      <td>552</td>\n",
       "      <td>204.446082</td>\n",
       "    </tr>\n",
       "    <tr>\n",
       "      <th>1</th>\n",
       "      <td>553</td>\n",
       "      <td>204.541955</td>\n",
       "    </tr>\n",
       "    <tr>\n",
       "      <th>2</th>\n",
       "      <td>554</td>\n",
       "      <td>204.576544</td>\n",
       "    </tr>\n",
       "    <tr>\n",
       "      <th>3</th>\n",
       "      <td>555</td>\n",
       "      <td>204.682612</td>\n",
       "    </tr>\n",
       "    <tr>\n",
       "      <th>4</th>\n",
       "      <td>556</td>\n",
       "      <td>269.365624</td>\n",
       "    </tr>\n",
       "  </tbody>\n",
       "</table>\n",
       "</div>"
      ],
      "text/plain": [
       "    ID  electricity_consumption\n",
       "0  552               204.446082\n",
       "1  553               204.541955\n",
       "2  554               204.576544\n",
       "3  555               204.682612\n",
       "4  556               269.365624"
      ]
     },
     "execution_count": 68,
     "metadata": {},
     "output_type": "execute_result"
    }
   ],
   "source": [
    "submission.head()"
   ]
  },
  {
   "cell_type": "code",
   "execution_count": 69,
   "metadata": {},
   "outputs": [],
   "source": [
    "submission.to_csv(\"Random Forest predictions.csv\", index = False)"
   ]
  },
  {
   "cell_type": "code",
   "execution_count": null,
   "metadata": {},
   "outputs": [],
   "source": []
  },
  {
   "cell_type": "code",
   "execution_count": null,
   "metadata": {},
   "outputs": [],
   "source": []
  }
 ],
 "metadata": {
  "kernelspec": {
   "display_name": "Python 2",
   "language": "python",
   "name": "python2"
  },
  "language_info": {
   "codemirror_mode": {
    "name": "ipython",
    "version": 2
   },
   "file_extension": ".py",
   "mimetype": "text/x-python",
   "name": "python",
   "nbconvert_exporter": "python",
   "pygments_lexer": "ipython2",
   "version": "2.7.14"
  }
 },
 "nbformat": 4,
 "nbformat_minor": 2
}

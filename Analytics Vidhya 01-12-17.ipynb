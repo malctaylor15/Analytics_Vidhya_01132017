{
 "cells": [
  {
   "cell_type": "code",
   "execution_count": 1,
   "metadata": {},
   "outputs": [
    {
     "data": {
      "text/plain": [
       "<matplotlib.figure.Figure at 0x2d78f575080>"
      ]
     },
     "metadata": {},
     "output_type": "display_data"
    }
   ],
   "source": [
    "import pandas as pd\n",
    "import numpy as np\n",
    "import matplotlib.pyplot as plt \n",
    "%matplotlib inline\n",
    "fig = plt.figure(figsize=(18,6), dpi=1600) "
   ]
  },
  {
   "cell_type": "code",
   "execution_count": 2,
   "metadata": {
    "collapsed": true
   },
   "outputs": [],
   "source": [
    "data_raw = pd.read_csv(\"train.csv\")"
   ]
  },
  {
   "cell_type": "code",
   "execution_count": 3,
   "metadata": {},
   "outputs": [
    {
     "data": {
      "text/html": [
       "<div>\n",
       "<style>\n",
       "    .dataframe thead tr:only-child th {\n",
       "        text-align: right;\n",
       "    }\n",
       "\n",
       "    .dataframe thead th {\n",
       "        text-align: left;\n",
       "    }\n",
       "\n",
       "    .dataframe tbody tr th {\n",
       "        vertical-align: top;\n",
       "    }\n",
       "</style>\n",
       "<table border=\"1\" class=\"dataframe\">\n",
       "  <thead>\n",
       "    <tr style=\"text-align: right;\">\n",
       "      <th></th>\n",
       "      <th>ID</th>\n",
       "      <th>datetime</th>\n",
       "      <th>temperature</th>\n",
       "      <th>var1</th>\n",
       "      <th>pressure</th>\n",
       "      <th>windspeed</th>\n",
       "      <th>var2</th>\n",
       "      <th>electricity_consumption</th>\n",
       "    </tr>\n",
       "  </thead>\n",
       "  <tbody>\n",
       "    <tr>\n",
       "      <th>0</th>\n",
       "      <td>0</td>\n",
       "      <td>2013-07-01 00:00:00</td>\n",
       "      <td>-11.4</td>\n",
       "      <td>-17.1</td>\n",
       "      <td>1003.0</td>\n",
       "      <td>571.910</td>\n",
       "      <td>A</td>\n",
       "      <td>216.0</td>\n",
       "    </tr>\n",
       "    <tr>\n",
       "      <th>1</th>\n",
       "      <td>1</td>\n",
       "      <td>2013-07-01 01:00:00</td>\n",
       "      <td>-12.1</td>\n",
       "      <td>-19.3</td>\n",
       "      <td>996.0</td>\n",
       "      <td>575.040</td>\n",
       "      <td>A</td>\n",
       "      <td>210.0</td>\n",
       "    </tr>\n",
       "    <tr>\n",
       "      <th>2</th>\n",
       "      <td>2</td>\n",
       "      <td>2013-07-01 02:00:00</td>\n",
       "      <td>-12.9</td>\n",
       "      <td>-20.0</td>\n",
       "      <td>1000.0</td>\n",
       "      <td>578.435</td>\n",
       "      <td>A</td>\n",
       "      <td>225.0</td>\n",
       "    </tr>\n",
       "    <tr>\n",
       "      <th>3</th>\n",
       "      <td>3</td>\n",
       "      <td>2013-07-01 03:00:00</td>\n",
       "      <td>-11.4</td>\n",
       "      <td>-17.1</td>\n",
       "      <td>995.0</td>\n",
       "      <td>582.580</td>\n",
       "      <td>A</td>\n",
       "      <td>216.0</td>\n",
       "    </tr>\n",
       "    <tr>\n",
       "      <th>4</th>\n",
       "      <td>4</td>\n",
       "      <td>2013-07-01 04:00:00</td>\n",
       "      <td>-11.4</td>\n",
       "      <td>-19.3</td>\n",
       "      <td>1005.0</td>\n",
       "      <td>586.600</td>\n",
       "      <td>A</td>\n",
       "      <td>222.0</td>\n",
       "    </tr>\n",
       "  </tbody>\n",
       "</table>\n",
       "</div>"
      ],
      "text/plain": [
       "   ID             datetime  temperature  var1  pressure  windspeed var2  \\\n",
       "0   0  2013-07-01 00:00:00        -11.4 -17.1    1003.0    571.910    A   \n",
       "1   1  2013-07-01 01:00:00        -12.1 -19.3     996.0    575.040    A   \n",
       "2   2  2013-07-01 02:00:00        -12.9 -20.0    1000.0    578.435    A   \n",
       "3   3  2013-07-01 03:00:00        -11.4 -17.1     995.0    582.580    A   \n",
       "4   4  2013-07-01 04:00:00        -11.4 -19.3    1005.0    586.600    A   \n",
       "\n",
       "   electricity_consumption  \n",
       "0                    216.0  \n",
       "1                    210.0  \n",
       "2                    225.0  \n",
       "3                    216.0  \n",
       "4                    222.0  "
      ]
     },
     "execution_count": 3,
     "metadata": {},
     "output_type": "execute_result"
    }
   ],
   "source": [
    "data_raw.head()"
   ]
  },
  {
   "cell_type": "code",
   "execution_count": 4,
   "metadata": {},
   "outputs": [
    {
     "data": {
      "text/plain": [
       "(26496, 8)"
      ]
     },
     "execution_count": 4,
     "metadata": {},
     "output_type": "execute_result"
    }
   ],
   "source": [
    "data_raw.shape"
   ]
  },
  {
   "cell_type": "code",
   "execution_count": 5,
   "metadata": {},
   "outputs": [
    {
     "data": {
      "text/html": [
       "<div>\n",
       "<style>\n",
       "    .dataframe thead tr:only-child th {\n",
       "        text-align: right;\n",
       "    }\n",
       "\n",
       "    .dataframe thead th {\n",
       "        text-align: left;\n",
       "    }\n",
       "\n",
       "    .dataframe tbody tr th {\n",
       "        vertical-align: top;\n",
       "    }\n",
       "</style>\n",
       "<table border=\"1\" class=\"dataframe\">\n",
       "  <thead>\n",
       "    <tr style=\"text-align: right;\">\n",
       "      <th></th>\n",
       "      <th>ID</th>\n",
       "      <th>temperature</th>\n",
       "      <th>var1</th>\n",
       "      <th>pressure</th>\n",
       "      <th>windspeed</th>\n",
       "      <th>electricity_consumption</th>\n",
       "    </tr>\n",
       "  </thead>\n",
       "  <tbody>\n",
       "    <tr>\n",
       "      <th>count</th>\n",
       "      <td>26496.000000</td>\n",
       "      <td>26496.000000</td>\n",
       "      <td>26496.000000</td>\n",
       "      <td>26496.000000</td>\n",
       "      <td>26496.000000</td>\n",
       "      <td>26496.000000</td>\n",
       "    </tr>\n",
       "    <tr>\n",
       "      <th>mean</th>\n",
       "      <td>17455.500000</td>\n",
       "      <td>5.098989</td>\n",
       "      <td>-1.916233</td>\n",
       "      <td>986.450615</td>\n",
       "      <td>23.959956</td>\n",
       "      <td>298.359601</td>\n",
       "    </tr>\n",
       "    <tr>\n",
       "      <th>std</th>\n",
       "      <td>10122.873673</td>\n",
       "      <td>8.682860</td>\n",
       "      <td>10.424860</td>\n",
       "      <td>12.002647</td>\n",
       "      <td>48.280321</td>\n",
       "      <td>108.020555</td>\n",
       "    </tr>\n",
       "    <tr>\n",
       "      <th>min</th>\n",
       "      <td>0.000000</td>\n",
       "      <td>-17.100000</td>\n",
       "      <td>-32.900000</td>\n",
       "      <td>953.000000</td>\n",
       "      <td>1.075000</td>\n",
       "      <td>174.000000</td>\n",
       "    </tr>\n",
       "    <tr>\n",
       "      <th>25%</th>\n",
       "      <td>8717.750000</td>\n",
       "      <td>-2.900000</td>\n",
       "      <td>-10.700000</td>\n",
       "      <td>978.000000</td>\n",
       "      <td>3.155000</td>\n",
       "      <td>219.000000</td>\n",
       "    </tr>\n",
       "    <tr>\n",
       "      <th>50%</th>\n",
       "      <td>17435.500000</td>\n",
       "      <td>6.400000</td>\n",
       "      <td>-1.400000</td>\n",
       "      <td>986.000000</td>\n",
       "      <td>6.545000</td>\n",
       "      <td>267.000000</td>\n",
       "    </tr>\n",
       "    <tr>\n",
       "      <th>75%</th>\n",
       "      <td>26177.250000</td>\n",
       "      <td>12.100000</td>\n",
       "      <td>7.900000</td>\n",
       "      <td>995.000000</td>\n",
       "      <td>22.260000</td>\n",
       "      <td>342.000000</td>\n",
       "    </tr>\n",
       "    <tr>\n",
       "      <th>max</th>\n",
       "      <td>34895.000000</td>\n",
       "      <td>23.600000</td>\n",
       "      <td>18.600000</td>\n",
       "      <td>1024.000000</td>\n",
       "      <td>586.600000</td>\n",
       "      <td>1386.000000</td>\n",
       "    </tr>\n",
       "  </tbody>\n",
       "</table>\n",
       "</div>"
      ],
      "text/plain": [
       "                 ID   temperature          var1      pressure     windspeed  \\\n",
       "count  26496.000000  26496.000000  26496.000000  26496.000000  26496.000000   \n",
       "mean   17455.500000      5.098989     -1.916233    986.450615     23.959956   \n",
       "std    10122.873673      8.682860     10.424860     12.002647     48.280321   \n",
       "min        0.000000    -17.100000    -32.900000    953.000000      1.075000   \n",
       "25%     8717.750000     -2.900000    -10.700000    978.000000      3.155000   \n",
       "50%    17435.500000      6.400000     -1.400000    986.000000      6.545000   \n",
       "75%    26177.250000     12.100000      7.900000    995.000000     22.260000   \n",
       "max    34895.000000     23.600000     18.600000   1024.000000    586.600000   \n",
       "\n",
       "       electricity_consumption  \n",
       "count             26496.000000  \n",
       "mean                298.359601  \n",
       "std                 108.020555  \n",
       "min                 174.000000  \n",
       "25%                 219.000000  \n",
       "50%                 267.000000  \n",
       "75%                 342.000000  \n",
       "max                1386.000000  "
      ]
     },
     "execution_count": 5,
     "metadata": {},
     "output_type": "execute_result"
    }
   ],
   "source": [
    "data_raw.describe()"
   ]
  },
  {
   "cell_type": "markdown",
   "metadata": {},
   "source": [
    "Seems like there are no missing values  \n",
    "There are some extreme values in electricity consumption, windspeed, potentially var1, and temperature. We can see that by the discrepancy in the 75% tile and the max.  \n",
    "We should consider some sort of capping for these and potentiall all variables  \n",
    "** TODO: Capping ** "
   ]
  },
  {
   "cell_type": "markdown",
   "metadata": {},
   "source": [
    "### Let's begin some plotting "
   ]
  },
  {
   "cell_type": "code",
   "execution_count": 6,
   "metadata": {
    "collapsed": true
   },
   "outputs": [],
   "source": [
    "def make_plots(df):\n",
    "    \n",
    "    # Make sure df has columns we wish to plot \n",
    "    cols_to_plot = ['ID', 'datetime', 'temperature', 'var1', 'pressure', 'windspeed',\n",
    "    'electricity_consumption']\n",
    "    not_in_list = [item for item in cols_to_plot if item not in list(data_raw.columns)]\n",
    "    if len(not_in_list) > 1:\n",
    "        print(not_in_list, \" is not in dataframe columns. Not trying to plot... \")\n",
    "        return(1)\n",
    "    \n",
    "    \n",
    "    # Time series of all the variables \n",
    "    plt.subplot2grid((3,2),(0,0))\n",
    "    df.temperature.plot( )\n",
    "    plt.title(\"Temperature\")\n",
    "\n",
    "    plt.subplot2grid((3,2),(0,1))\n",
    "    df.var1.plot( )\n",
    "    plt.title(\"Var1\")\n",
    "\n",
    "    plt.subplot2grid((3,2),(1,0))\n",
    "    df.pressure.plot( )\n",
    "    plt.title(\"Pressure\")\n",
    "\n",
    "    plt.subplot2grid((3,2),(1,1))\n",
    "    df.windspeed.plot( )\n",
    "    plt.title(\"WindSpeed\")\n",
    "\n",
    "    #plt.subplot2grid((3,3),(1,1))\n",
    "    #df.var2.plot( )\n",
    "    #plt.title(\"Var2\")\n",
    "\n",
    "    plt.subplot2grid((3,2),(2,0), colspan = 2)\n",
    "    df.electricity_consumption.plot( )\n",
    "    plt.title(\"Electricity Consumption (target)\")\n",
    "    \n",
    "    return(0)\n"
   ]
  },
  {
   "cell_type": "code",
   "execution_count": 7,
   "metadata": {},
   "outputs": [
    {
     "data": {
      "text/plain": [
       "0"
      ]
     },
     "execution_count": 7,
     "metadata": {},
     "output_type": "execute_result"
    },
    {
     "data": {
      "image/png": "[encoded data removed]",
      "text/plain": [
       "<matplotlib.figure.Figure at 0x2d7919ab630>"
      ]
     },
     "metadata": {},
     "output_type": "display_data"
    }
   ],
   "source": [
    "make_plots(data_raw)"
   ]
  },
  {
   "cell_type": "code",
   "execution_count": 8,
   "metadata": {},
   "outputs": [
    {
     "data": {
      "text/plain": [
       "Text(0.5,1,'Electricity Consumption (target)')"
      ]
     },
     "execution_count": 8,
     "metadata": {},
     "output_type": "execute_result"
    },
    {
     "data": {
      "image/png": "[encoded data removed]",
      "text/plain": [
       "<matplotlib.figure.Figure at 0x2d791eb7b38>"
      ]
     },
     "metadata": {},
     "output_type": "display_data"
    }
   ],
   "source": [
    "# Distribution of all the variables \n",
    "plt.subplot2grid((3,2),(0,0))\n",
    "data_raw.temperature.plot(kind = 'kde')\n",
    "plt.title(\"Temperature\")\n",
    "\n",
    "plt.subplot2grid((3,2),(0,1))\n",
    "data_raw.var1.plot(kind = 'kde')\n",
    "plt.title(\"Var1\")\n",
    "\n",
    "plt.subplot2grid((3,2),(1,0))\n",
    "data_raw.pressure.plot(kind = 'kde')\n",
    "plt.title(\"Pressure\")\n",
    "\n",
    "plt.subplot2grid((3,2),(1,1))\n",
    "data_raw.windspeed.plot(kind = 'kde')\n",
    "plt.title(\"WindSpeed\")\n",
    "\n",
    "#plt.subplot2grid((3,3),(1,1))\n",
    "#data_raw.var2.plot(kind = 'kde')\n",
    "#plt.title(\"Var2\")\n",
    "\n",
    "plt.subplot2grid((3,2),(2,0), colspan = 2)\n",
    "data_raw.electricity_consumption.plot(kind = 'kde')\n",
    "plt.title(\"Electricity Consumption (target)\")\n",
    "\n"
   ]
  },
  {
   "cell_type": "code",
   "execution_count": 9,
   "metadata": {},
   "outputs": [
    {
     "data": {
      "text/html": [
       "<div>\n",
       "<style>\n",
       "    .dataframe thead tr:only-child th {\n",
       "        text-align: right;\n",
       "    }\n",
       "\n",
       "    .dataframe thead th {\n",
       "        text-align: left;\n",
       "    }\n",
       "\n",
       "    .dataframe tbody tr th {\n",
       "        vertical-align: top;\n",
       "    }\n",
       "</style>\n",
       "<table border=\"1\" class=\"dataframe\">\n",
       "  <thead>\n",
       "    <tr style=\"text-align: right;\">\n",
       "      <th></th>\n",
       "      <th>ID</th>\n",
       "      <th>datetime</th>\n",
       "      <th>temperature</th>\n",
       "      <th>var1</th>\n",
       "      <th>pressure</th>\n",
       "      <th>windspeed</th>\n",
       "      <th>var2</th>\n",
       "      <th>electricity_consumption</th>\n",
       "    </tr>\n",
       "  </thead>\n",
       "  <tbody>\n",
       "    <tr>\n",
       "      <th>0</th>\n",
       "      <td>0</td>\n",
       "      <td>2013-07-01 00:00:00</td>\n",
       "      <td>-11.4</td>\n",
       "      <td>-17.1</td>\n",
       "      <td>1003.0</td>\n",
       "      <td>571.910</td>\n",
       "      <td>A</td>\n",
       "      <td>216.0</td>\n",
       "    </tr>\n",
       "    <tr>\n",
       "      <th>1</th>\n",
       "      <td>1</td>\n",
       "      <td>2013-07-01 01:00:00</td>\n",
       "      <td>-12.1</td>\n",
       "      <td>-19.3</td>\n",
       "      <td>996.0</td>\n",
       "      <td>575.040</td>\n",
       "      <td>A</td>\n",
       "      <td>210.0</td>\n",
       "    </tr>\n",
       "    <tr>\n",
       "      <th>2</th>\n",
       "      <td>2</td>\n",
       "      <td>2013-07-01 02:00:00</td>\n",
       "      <td>-12.9</td>\n",
       "      <td>-20.0</td>\n",
       "      <td>1000.0</td>\n",
       "      <td>578.435</td>\n",
       "      <td>A</td>\n",
       "      <td>225.0</td>\n",
       "    </tr>\n",
       "    <tr>\n",
       "      <th>3</th>\n",
       "      <td>3</td>\n",
       "      <td>2013-07-01 03:00:00</td>\n",
       "      <td>-11.4</td>\n",
       "      <td>-17.1</td>\n",
       "      <td>995.0</td>\n",
       "      <td>582.580</td>\n",
       "      <td>A</td>\n",
       "      <td>216.0</td>\n",
       "    </tr>\n",
       "    <tr>\n",
       "      <th>4</th>\n",
       "      <td>4</td>\n",
       "      <td>2013-07-01 04:00:00</td>\n",
       "      <td>-11.4</td>\n",
       "      <td>-19.3</td>\n",
       "      <td>1005.0</td>\n",
       "      <td>586.600</td>\n",
       "      <td>A</td>\n",
       "      <td>222.0</td>\n",
       "    </tr>\n",
       "  </tbody>\n",
       "</table>\n",
       "</div>"
      ],
      "text/plain": [
       "   ID             datetime  temperature  var1  pressure  windspeed var2  \\\n",
       "0   0  2013-07-01 00:00:00        -11.4 -17.1    1003.0    571.910    A   \n",
       "1   1  2013-07-01 01:00:00        -12.1 -19.3     996.0    575.040    A   \n",
       "2   2  2013-07-01 02:00:00        -12.9 -20.0    1000.0    578.435    A   \n",
       "3   3  2013-07-01 03:00:00        -11.4 -17.1     995.0    582.580    A   \n",
       "4   4  2013-07-01 04:00:00        -11.4 -19.3    1005.0    586.600    A   \n",
       "\n",
       "   electricity_consumption  \n",
       "0                    216.0  \n",
       "1                    210.0  \n",
       "2                    225.0  \n",
       "3                    216.0  \n",
       "4                    222.0  "
      ]
     },
     "execution_count": 9,
     "metadata": {},
     "output_type": "execute_result"
    }
   ],
   "source": [
    "data_raw.head()"
   ]
  },
  {
   "cell_type": "markdown",
   "metadata": {},
   "source": [
    "We notice that the data is hourly (as the description mentioned) and maybe we should aggregate to another level  \n",
    "Let's also look at the end "
   ]
  },
  {
   "cell_type": "code",
   "execution_count": 10,
   "metadata": {},
   "outputs": [
    {
     "data": {
      "text/html": [
       "<div>\n",
       "<style>\n",
       "    .dataframe thead tr:only-child th {\n",
       "        text-align: right;\n",
       "    }\n",
       "\n",
       "    .dataframe thead th {\n",
       "        text-align: left;\n",
       "    }\n",
       "\n",
       "    .dataframe tbody tr th {\n",
       "        vertical-align: top;\n",
       "    }\n",
       "</style>\n",
       "<table border=\"1\" class=\"dataframe\">\n",
       "  <thead>\n",
       "    <tr style=\"text-align: right;\">\n",
       "      <th></th>\n",
       "      <th>ID</th>\n",
       "      <th>datetime</th>\n",
       "      <th>temperature</th>\n",
       "      <th>var1</th>\n",
       "      <th>pressure</th>\n",
       "      <th>windspeed</th>\n",
       "      <th>var2</th>\n",
       "      <th>electricity_consumption</th>\n",
       "    </tr>\n",
       "  </thead>\n",
       "  <tbody>\n",
       "    <tr>\n",
       "      <th>26491</th>\n",
       "      <td>34891</td>\n",
       "      <td>2017-06-23 19:00:00</td>\n",
       "      <td>-0.7</td>\n",
       "      <td>-15.0</td>\n",
       "      <td>1009.0</td>\n",
       "      <td>51.685</td>\n",
       "      <td>A</td>\n",
       "      <td>225.0</td>\n",
       "    </tr>\n",
       "    <tr>\n",
       "      <th>26492</th>\n",
       "      <td>34892</td>\n",
       "      <td>2017-06-23 20:00:00</td>\n",
       "      <td>-2.9</td>\n",
       "      <td>-11.4</td>\n",
       "      <td>1005.0</td>\n",
       "      <td>56.105</td>\n",
       "      <td>A</td>\n",
       "      <td>213.0</td>\n",
       "    </tr>\n",
       "    <tr>\n",
       "      <th>26493</th>\n",
       "      <td>34893</td>\n",
       "      <td>2017-06-23 21:00:00</td>\n",
       "      <td>-1.4</td>\n",
       "      <td>-12.9</td>\n",
       "      <td>995.0</td>\n",
       "      <td>61.275</td>\n",
       "      <td>A</td>\n",
       "      <td>213.0</td>\n",
       "    </tr>\n",
       "    <tr>\n",
       "      <th>26494</th>\n",
       "      <td>34894</td>\n",
       "      <td>2017-06-23 22:00:00</td>\n",
       "      <td>-2.9</td>\n",
       "      <td>-11.4</td>\n",
       "      <td>996.0</td>\n",
       "      <td>67.210</td>\n",
       "      <td>A</td>\n",
       "      <td>210.0</td>\n",
       "    </tr>\n",
       "    <tr>\n",
       "      <th>26495</th>\n",
       "      <td>34895</td>\n",
       "      <td>2017-06-23 23:00:00</td>\n",
       "      <td>-2.1</td>\n",
       "      <td>-11.4</td>\n",
       "      <td>1009.0</td>\n",
       "      <td>71.880</td>\n",
       "      <td>A</td>\n",
       "      <td>210.0</td>\n",
       "    </tr>\n",
       "  </tbody>\n",
       "</table>\n",
       "</div>"
      ],
      "text/plain": [
       "          ID             datetime  temperature  var1  pressure  windspeed  \\\n",
       "26491  34891  2017-06-23 19:00:00         -0.7 -15.0    1009.0     51.685   \n",
       "26492  34892  2017-06-23 20:00:00         -2.9 -11.4    1005.0     56.105   \n",
       "26493  34893  2017-06-23 21:00:00         -1.4 -12.9     995.0     61.275   \n",
       "26494  34894  2017-06-23 22:00:00         -2.9 -11.4     996.0     67.210   \n",
       "26495  34895  2017-06-23 23:00:00         -2.1 -11.4    1009.0     71.880   \n",
       "\n",
       "      var2  electricity_consumption  \n",
       "26491    A                    225.0  \n",
       "26492    A                    213.0  \n",
       "26493    A                    213.0  \n",
       "26494    A                    210.0  \n",
       "26495    A                    210.0  "
      ]
     },
     "execution_count": 10,
     "metadata": {},
     "output_type": "execute_result"
    }
   ],
   "source": [
    "data_raw.tail()"
   ]
  },
  {
   "cell_type": "markdown",
   "metadata": {},
   "source": [
    "## Begin Time Aggregations "
   ]
  },
  {
   "cell_type": "code",
   "execution_count": 11,
   "metadata": {
    "collapsed": true
   },
   "outputs": [],
   "source": [
    "data_raw.index = pd.to_datetime(data_raw.datetime)"
   ]
  },
  {
   "cell_type": "raw",
   "metadata": {},
   "source": [
    "#AN Example from the internet \n",
    "pd.groupby(b, by = [b.index.month, b.index.year])\n",
    "df.groupby(pd.TimeGrouper(freq='M'))"
   ]
  },
  {
   "cell_type": "code",
   "execution_count": 12,
   "metadata": {
    "collapsed": true
   },
   "outputs": [],
   "source": [
    "data_agg_prep = data_raw.drop([\"var2\", \"datetime\"], axis =1)"
   ]
  },
  {
   "cell_type": "code",
   "execution_count": 13,
   "metadata": {},
   "outputs": [
    {
     "data": {
      "text/plain": [
       "ID                           int64\n",
       "temperature                float64\n",
       "var1                       float64\n",
       "pressure                   float64\n",
       "windspeed                  float64\n",
       "electricity_consumption    float64\n",
       "dtype: object"
      ]
     },
     "execution_count": 13,
     "metadata": {},
     "output_type": "execute_result"
    }
   ],
   "source": [
    "data_agg_prep.dtypes"
   ]
  },
  {
   "cell_type": "code",
   "execution_count": 14,
   "metadata": {
    "collapsed": true
   },
   "outputs": [],
   "source": [
    "# Perform aggregations by the day \n",
    "monthly_data_gb = data_agg_prep.groupby(pd.Grouper(freq = 'M'))"
   ]
  },
  {
   "cell_type": "code",
   "execution_count": 15,
   "metadata": {
    "scrolled": true
   },
   "outputs": [
    {
     "data": {
      "text/html": [
       "<div>\n",
       "<style>\n",
       "    .dataframe thead tr:only-child th {\n",
       "        text-align: right;\n",
       "    }\n",
       "\n",
       "    .dataframe thead th {\n",
       "        text-align: left;\n",
       "    }\n",
       "\n",
       "    .dataframe tbody tr th {\n",
       "        vertical-align: top;\n",
       "    }\n",
       "</style>\n",
       "<table border=\"1\" class=\"dataframe\">\n",
       "  <thead>\n",
       "    <tr style=\"text-align: right;\">\n",
       "      <th></th>\n",
       "      <th>ID</th>\n",
       "      <th>temperature</th>\n",
       "      <th>var1</th>\n",
       "      <th>pressure</th>\n",
       "      <th>windspeed</th>\n",
       "      <th>electricity_consumption</th>\n",
       "    </tr>\n",
       "    <tr>\n",
       "      <th>datetime</th>\n",
       "      <th></th>\n",
       "      <th></th>\n",
       "      <th></th>\n",
       "      <th></th>\n",
       "      <th></th>\n",
       "      <th></th>\n",
       "    </tr>\n",
       "  </thead>\n",
       "  <tbody>\n",
       "    <tr>\n",
       "      <th>2013-07-31</th>\n",
       "      <td>275.5</td>\n",
       "      <td>-8.021377</td>\n",
       "      <td>-17.582609</td>\n",
       "      <td>1001.355072</td>\n",
       "      <td>87.168306</td>\n",
       "      <td>240.217391</td>\n",
       "    </tr>\n",
       "    <tr>\n",
       "      <th>2013-08-31</th>\n",
       "      <td>1019.5</td>\n",
       "      <td>-4.794203</td>\n",
       "      <td>-10.662681</td>\n",
       "      <td>993.492754</td>\n",
       "      <td>16.071277</td>\n",
       "      <td>386.635870</td>\n",
       "    </tr>\n",
       "    <tr>\n",
       "      <th>2013-09-30</th>\n",
       "      <td>1763.5</td>\n",
       "      <td>0.894384</td>\n",
       "      <td>-12.194928</td>\n",
       "      <td>991.641304</td>\n",
       "      <td>48.516812</td>\n",
       "      <td>269.565217</td>\n",
       "    </tr>\n",
       "    <tr>\n",
       "      <th>2013-10-31</th>\n",
       "      <td>2483.5</td>\n",
       "      <td>6.736051</td>\n",
       "      <td>-5.390036</td>\n",
       "      <td>984.865942</td>\n",
       "      <td>28.547572</td>\n",
       "      <td>294.461957</td>\n",
       "    </tr>\n",
       "    <tr>\n",
       "      <th>2013-11-30</th>\n",
       "      <td>3227.5</td>\n",
       "      <td>10.315761</td>\n",
       "      <td>-0.088043</td>\n",
       "      <td>978.329710</td>\n",
       "      <td>47.665707</td>\n",
       "      <td>265.326087</td>\n",
       "    </tr>\n",
       "  </tbody>\n",
       "</table>\n",
       "</div>"
      ],
      "text/plain": [
       "                ID  temperature       var1     pressure  windspeed  \\\n",
       "datetime                                                             \n",
       "2013-07-31   275.5    -8.021377 -17.582609  1001.355072  87.168306   \n",
       "2013-08-31  1019.5    -4.794203 -10.662681   993.492754  16.071277   \n",
       "2013-09-30  1763.5     0.894384 -12.194928   991.641304  48.516812   \n",
       "2013-10-31  2483.5     6.736051  -5.390036   984.865942  28.547572   \n",
       "2013-11-30  3227.5    10.315761  -0.088043   978.329710  47.665707   \n",
       "\n",
       "            electricity_consumption  \n",
       "datetime                             \n",
       "2013-07-31               240.217391  \n",
       "2013-08-31               386.635870  \n",
       "2013-09-30               269.565217  \n",
       "2013-10-31               294.461957  \n",
       "2013-11-30               265.326087  "
      ]
     },
     "execution_count": 15,
     "metadata": {},
     "output_type": "execute_result"
    }
   ],
   "source": [
    "mean_monthly = monthly_data_gb.apply(np.mean)\n",
    "mean_monthly.head()"
   ]
  },
  {
   "cell_type": "code",
   "execution_count": 16,
   "metadata": {},
   "outputs": [
    {
     "data": {
      "text/html": [
       "<div>\n",
       "<style>\n",
       "    .dataframe thead tr:only-child th {\n",
       "        text-align: right;\n",
       "    }\n",
       "\n",
       "    .dataframe thead th {\n",
       "        text-align: left;\n",
       "    }\n",
       "\n",
       "    .dataframe tbody tr th {\n",
       "        vertical-align: top;\n",
       "    }\n",
       "</style>\n",
       "<table border=\"1\" class=\"dataframe\">\n",
       "  <thead>\n",
       "    <tr style=\"text-align: right;\">\n",
       "      <th></th>\n",
       "      <th>ID</th>\n",
       "      <th>temperature</th>\n",
       "      <th>var1</th>\n",
       "      <th>pressure</th>\n",
       "      <th>windspeed</th>\n",
       "      <th>electricity_consumption</th>\n",
       "    </tr>\n",
       "  </thead>\n",
       "  <tbody>\n",
       "    <tr>\n",
       "      <th>count</th>\n",
       "      <td>48.000000</td>\n",
       "      <td>48.000000</td>\n",
       "      <td>48.000000</td>\n",
       "      <td>48.000000</td>\n",
       "      <td>48.000000</td>\n",
       "      <td>48.000000</td>\n",
       "    </tr>\n",
       "    <tr>\n",
       "      <th>mean</th>\n",
       "      <td>17455.500000</td>\n",
       "      <td>5.098989</td>\n",
       "      <td>-1.916233</td>\n",
       "      <td>986.450615</td>\n",
       "      <td>23.959956</td>\n",
       "      <td>298.359601</td>\n",
       "    </tr>\n",
       "    <tr>\n",
       "      <th>std</th>\n",
       "      <td>10228.536402</td>\n",
       "      <td>8.066797</td>\n",
       "      <td>9.552880</td>\n",
       "      <td>9.273818</td>\n",
       "      <td>16.238679</td>\n",
       "      <td>32.424933</td>\n",
       "    </tr>\n",
       "    <tr>\n",
       "      <th>min</th>\n",
       "      <td>275.500000</td>\n",
       "      <td>-8.243297</td>\n",
       "      <td>-17.582609</td>\n",
       "      <td>971.958333</td>\n",
       "      <td>8.628560</td>\n",
       "      <td>240.217391</td>\n",
       "    </tr>\n",
       "    <tr>\n",
       "      <th>25%</th>\n",
       "      <td>8855.500000</td>\n",
       "      <td>-2.071060</td>\n",
       "      <td>-11.637681</td>\n",
       "      <td>977.937047</td>\n",
       "      <td>13.109703</td>\n",
       "      <td>272.297554</td>\n",
       "    </tr>\n",
       "    <tr>\n",
       "      <th>50%</th>\n",
       "      <td>17435.500000</td>\n",
       "      <td>6.188496</td>\n",
       "      <td>-1.841214</td>\n",
       "      <td>986.491848</td>\n",
       "      <td>17.824339</td>\n",
       "      <td>296.269022</td>\n",
       "    </tr>\n",
       "    <tr>\n",
       "      <th>75%</th>\n",
       "      <td>26039.500000</td>\n",
       "      <td>11.869746</td>\n",
       "      <td>7.485734</td>\n",
       "      <td>993.820199</td>\n",
       "      <td>28.811927</td>\n",
       "      <td>311.940217</td>\n",
       "    </tr>\n",
       "    <tr>\n",
       "      <th>max</th>\n",
       "      <td>34619.500000</td>\n",
       "      <td>16.331159</td>\n",
       "      <td>12.368841</td>\n",
       "      <td>1001.355072</td>\n",
       "      <td>87.168306</td>\n",
       "      <td>386.635870</td>\n",
       "    </tr>\n",
       "  </tbody>\n",
       "</table>\n",
       "</div>"
      ],
      "text/plain": [
       "                 ID  temperature       var1     pressure  windspeed  \\\n",
       "count     48.000000    48.000000  48.000000    48.000000  48.000000   \n",
       "mean   17455.500000     5.098989  -1.916233   986.450615  23.959956   \n",
       "std    10228.536402     8.066797   9.552880     9.273818  16.238679   \n",
       "min      275.500000    -8.243297 -17.582609   971.958333   8.628560   \n",
       "25%     8855.500000    -2.071060 -11.637681   977.937047  13.109703   \n",
       "50%    17435.500000     6.188496  -1.841214   986.491848  17.824339   \n",
       "75%    26039.500000    11.869746   7.485734   993.820199  28.811927   \n",
       "max    34619.500000    16.331159  12.368841  1001.355072  87.168306   \n",
       "\n",
       "       electricity_consumption  \n",
       "count                48.000000  \n",
       "mean                298.359601  \n",
       "std                  32.424933  \n",
       "min                 240.217391  \n",
       "25%                 272.297554  \n",
       "50%                 296.269022  \n",
       "75%                 311.940217  \n",
       "max                 386.635870  "
      ]
     },
     "execution_count": 16,
     "metadata": {},
     "output_type": "execute_result"
    }
   ],
   "source": [
    "mean_monthly.describe()"
   ]
  },
  {
   "cell_type": "markdown",
   "metadata": {},
   "source": [
    "** Some observations ** \n",
    "\n",
    "We see that there are 48 observations which corresponds to 4 years (4 years * 12 months/ year) so we have confidence that the group by was sucessful.  \n",
    "\n",
    "We also see that the quantiles are closer together and they do not differ as much from the 25% and 75% quantiles "
   ]
  },
  {
   "cell_type": "code",
   "execution_count": 17,
   "metadata": {},
   "outputs": [
    {
     "data": {
      "text/plain": [
       "0"
      ]
     },
     "execution_count": 17,
     "metadata": {},
     "output_type": "execute_result"
    },
    {
     "data": {
      "image/png": "[encoded data removed]",
      "text/plain": [
       "<matplotlib.figure.Figure at 0x2d791b44390>"
      ]
     },
     "metadata": {},
     "output_type": "display_data"
    }
   ],
   "source": [
    "make_plots(mean_monthly)"
   ]
  },
  {
   "cell_type": "markdown",
   "metadata": {},
   "source": [
    "Here we can see the cyclical patterns in the temperature and in variable 1.  \n",
    "It is a little difficult to see in this plot but it looks like the peaks of the plots are **italics this later ** roughly\n",
    "over the new year. This makes sense if it is the new year is warmer and the wind is higher at those points.\n",
    "\n",
    "We can also notice that the electricity consumption and wind speed are not cyclical and will hopefully provide more information together."
   ]
  },
  {
   "cell_type": "markdown",
   "metadata": {},
   "source": [
    "### Let's look at the Standard Deviation Per Month (Per category) "
   ]
  },
  {
   "cell_type": "code",
   "execution_count": 18,
   "metadata": {
    "collapsed": true
   },
   "outputs": [],
   "source": [
    "stdev_monthly = monthly_data_gb.apply(np.std)\n"
   ]
  },
  {
   "cell_type": "code",
   "execution_count": 19,
   "metadata": {},
   "outputs": [
    {
     "data": {
      "text/plain": [
       "0"
      ]
     },
     "execution_count": 19,
     "metadata": {},
     "output_type": "execute_result"
    },
    {
     "data": {
      "image/png": "[encoded data removed]",
      "text/plain": [
       "<matplotlib.figure.Figure at 0x2d792656cc0>"
      ]
     },
     "metadata": {},
     "output_type": "display_data"
    }
   ],
   "source": [
    "make_plots(stdev_monthly)"
   ]
  },
  {
   "cell_type": "markdown",
   "metadata": {},
   "source": [
    "** Make plots with dots not lines **  \n",
    "We are looking at how much the each variable varies within each month \n",
    "Of the 23 points each month, we calculate the standard deviation \n",
    "\n",
    "We see that the temperature and var1 have fairly consistent standard deviation. \n",
    "Temperature has a lower standard deviation than var1 but it seems pretty similar. "
   ]
  },
  {
   "cell_type": "markdown",
   "metadata": {},
   "source": [
    "### One more aggregation \n",
    "\n",
    "Min max Ratio "
   ]
  },
  {
   "cell_type": "code",
   "execution_count": 30,
   "metadata": {},
   "outputs": [
    {
     "data": {
      "text/html": [
       "<div>\n",
       "<style scoped>\n",
       "    .dataframe tbody tr th:only-of-type {\n",
       "        vertical-align: middle;\n",
       "    }\n",
       "\n",
       "    .dataframe tbody tr th {\n",
       "        vertical-align: top;\n",
       "    }\n",
       "\n",
       "    .dataframe thead th {\n",
       "        text-align: right;\n",
       "    }\n",
       "</style>\n",
       "<table border=\"1\" class=\"dataframe\">\n",
       "  <thead>\n",
       "    <tr style=\"text-align: right;\">\n",
       "      <th></th>\n",
       "      <th>ID</th>\n",
       "      <th>temperature</th>\n",
       "      <th>var1</th>\n",
       "      <th>pressure</th>\n",
       "      <th>windspeed</th>\n",
       "      <th>electricity_consumption</th>\n",
       "    </tr>\n",
       "    <tr>\n",
       "      <th>datetime</th>\n",
       "      <th></th>\n",
       "      <th></th>\n",
       "      <th></th>\n",
       "      <th></th>\n",
       "      <th></th>\n",
       "      <th></th>\n",
       "    </tr>\n",
       "  </thead>\n",
       "  <tbody>\n",
       "    <tr>\n",
       "      <th>2013-07-31</th>\n",
       "      <td>0.000000</td>\n",
       "      <td>21.428571</td>\n",
       "      <td>2.271028</td>\n",
       "      <td>0.961802</td>\n",
       "      <td>0.001833</td>\n",
       "      <td>0.346821</td>\n",
       "    </tr>\n",
       "    <tr>\n",
       "      <th>2013-08-31</th>\n",
       "      <td>0.574517</td>\n",
       "      <td>-2.385965</td>\n",
       "      <td>7.137931</td>\n",
       "      <td>0.958621</td>\n",
       "      <td>0.007988</td>\n",
       "      <td>0.197324</td>\n",
       "    </tr>\n",
       "    <tr>\n",
       "      <th>2013-09-30</th>\n",
       "      <td>0.729769</td>\n",
       "      <td>-0.598131</td>\n",
       "      <td>6.138889</td>\n",
       "      <td>0.958457</td>\n",
       "      <td>0.003354</td>\n",
       "      <td>0.258772</td>\n",
       "    </tr>\n",
       "    <tr>\n",
       "      <th>2013-10-31</th>\n",
       "      <td>0.800290</td>\n",
       "      <td>-0.193548</td>\n",
       "      <td>-4.162791</td>\n",
       "      <td>0.954320</td>\n",
       "      <td>0.005339</td>\n",
       "      <td>0.329545</td>\n",
       "    </tr>\n",
       "    <tr>\n",
       "      <th>2013-11-30</th>\n",
       "      <td>0.842706</td>\n",
       "      <td>0.072539</td>\n",
       "      <td>-1.131579</td>\n",
       "      <td>0.961809</td>\n",
       "      <td>0.003513</td>\n",
       "      <td>0.345029</td>\n",
       "    </tr>\n",
       "  </tbody>\n",
       "</table>\n",
       "</div>"
      ],
      "text/plain": [
       "                  ID  temperature      var1  pressure  windspeed  \\\n",
       "datetime                                                           \n",
       "2013-07-31  0.000000    21.428571  2.271028  0.961802   0.001833   \n",
       "2013-08-31  0.574517    -2.385965  7.137931  0.958621   0.007988   \n",
       "2013-09-30  0.729769    -0.598131  6.138889  0.958457   0.003354   \n",
       "2013-10-31  0.800290    -0.193548 -4.162791  0.954320   0.005339   \n",
       "2013-11-30  0.842706     0.072539 -1.131579  0.961809   0.003513   \n",
       "\n",
       "            electricity_consumption  \n",
       "datetime                             \n",
       "2013-07-31                 0.346821  \n",
       "2013-08-31                 0.197324  \n",
       "2013-09-30                 0.258772  \n",
       "2013-10-31                 0.329545  \n",
       "2013-11-30                 0.345029  "
      ]
     },
     "execution_count": 30,
     "metadata": {},
     "output_type": "execute_result"
    }
   ],
   "source": [
    "mmr_monthly = monthly_data_gb.apply(lambda x: np.min(x)/np.max(x))\n",
    "mmr_monthly.head()\n"
   ]
  },
  {
   "cell_type": "code",
   "execution_count": 31,
   "metadata": {},
   "outputs": [
    {
     "data": {
      "text/plain": [
       "0"
      ]
     },
     "execution_count": 31,
     "metadata": {},
     "output_type": "execute_result"
    },
    {
     "data": {
      "image/png": "[encoded data removed]",
      "text/plain": [
       "<matplotlib.figure.Figure at 0x7d0aef716310>"
      ]
     },
     "metadata": {},
     "output_type": "display_data"
    }
   ],
   "source": [
    "make_plots(mmr_monthly)"
   ]
  },
  {
   "cell_type": "markdown",
   "metadata": {},
   "source": [
    "### More aggregations and potential Features \n",
    "\n",
    "* min max ratio\n",
    "* monthly average \n",
    "* weekly velocity \n",
    "* Season as a factor \n",
    "\n"
   ]
  },
  {
   "cell_type": "code",
   "execution_count": null,
   "metadata": {
    "collapsed": true
   },
   "outputs": [],
   "source": []
  },
  {
   "cell_type": "markdown",
   "metadata": {},
   "source": [
    "### Let's try Weekly Aggregations "
   ]
  },
  {
   "cell_type": "code",
   "execution_count": 37,
   "metadata": {
    "collapsed": true
   },
   "outputs": [],
   "source": [
    "weekly  = data_agg_prep.groupby(pd.Grouper(freq= 'W'))"
   ]
  },
  {
   "cell_type": "code",
   "execution_count": 38,
   "metadata": {
    "collapsed": true
   },
   "outputs": [],
   "source": [
    "weekly_mean = weekly.mean()"
   ]
  },
  {
   "cell_type": "code",
   "execution_count": 39,
   "metadata": {},
   "outputs": [
    {
     "data": {
      "text/html": [
       "<div>\n",
       "<style scoped>\n",
       "    .dataframe tbody tr th:only-of-type {\n",
       "        vertical-align: middle;\n",
       "    }\n",
       "\n",
       "    .dataframe tbody tr th {\n",
       "        vertical-align: top;\n",
       "    }\n",
       "\n",
       "    .dataframe thead th {\n",
       "        text-align: right;\n",
       "    }\n",
       "</style>\n",
       "<table border=\"1\" class=\"dataframe\">\n",
       "  <thead>\n",
       "    <tr style=\"text-align: right;\">\n",
       "      <th></th>\n",
       "      <th>ID</th>\n",
       "      <th>temperature</th>\n",
       "      <th>var1</th>\n",
       "      <th>pressure</th>\n",
       "      <th>windspeed</th>\n",
       "      <th>electricity_consumption</th>\n",
       "    </tr>\n",
       "  </thead>\n",
       "  <tbody>\n",
       "    <tr>\n",
       "      <th>count</th>\n",
       "      <td>199.000000</td>\n",
       "      <td>199.000000</td>\n",
       "      <td>199.000000</td>\n",
       "      <td>199.000000</td>\n",
       "      <td>199.000000</td>\n",
       "      <td>199.000000</td>\n",
       "    </tr>\n",
       "    <tr>\n",
       "      <th>mean</th>\n",
       "      <td>17372.665829</td>\n",
       "      <td>5.199059</td>\n",
       "      <td>-1.798154</td>\n",
       "      <td>986.417624</td>\n",
       "      <td>22.813634</td>\n",
       "      <td>299.458617</td>\n",
       "    </tr>\n",
       "    <tr>\n",
       "      <th>std</th>\n",
       "      <td>10162.238404</td>\n",
       "      <td>8.133011</td>\n",
       "      <td>9.871271</td>\n",
       "      <td>9.639123</td>\n",
       "      <td>21.640826</td>\n",
       "      <td>64.051937</td>\n",
       "    </tr>\n",
       "    <tr>\n",
       "      <th>min</th>\n",
       "      <td>83.500000</td>\n",
       "      <td>-10.577500</td>\n",
       "      <td>-20.708333</td>\n",
       "      <td>966.000000</td>\n",
       "      <td>3.771250</td>\n",
       "      <td>206.937500</td>\n",
       "    </tr>\n",
       "    <tr>\n",
       "      <th>25%</th>\n",
       "      <td>8531.500000</td>\n",
       "      <td>-1.759201</td>\n",
       "      <td>-10.882738</td>\n",
       "      <td>977.297619</td>\n",
       "      <td>9.992882</td>\n",
       "      <td>258.910714</td>\n",
       "    </tr>\n",
       "    <tr>\n",
       "      <th>50%</th>\n",
       "      <td>17327.500000</td>\n",
       "      <td>6.137500</td>\n",
       "      <td>-0.747500</td>\n",
       "      <td>986.614583</td>\n",
       "      <td>14.404851</td>\n",
       "      <td>288.303571</td>\n",
       "    </tr>\n",
       "    <tr>\n",
       "      <th>75%</th>\n",
       "      <td>26021.500000</td>\n",
       "      <td>12.904613</td>\n",
       "      <td>7.672917</td>\n",
       "      <td>994.232143</td>\n",
       "      <td>25.440930</td>\n",
       "      <td>321.843750</td>\n",
       "    </tr>\n",
       "    <tr>\n",
       "      <th>max</th>\n",
       "      <td>34835.500000</td>\n",
       "      <td>17.083333</td>\n",
       "      <td>14.409375</td>\n",
       "      <td>1005.937500</td>\n",
       "      <td>119.278667</td>\n",
       "      <td>630.850000</td>\n",
       "    </tr>\n",
       "  </tbody>\n",
       "</table>\n",
       "</div>"
      ],
      "text/plain": [
       "                 ID  temperature        var1     pressure   windspeed  \\\n",
       "count    199.000000   199.000000  199.000000   199.000000  199.000000   \n",
       "mean   17372.665829     5.199059   -1.798154   986.417624   22.813634   \n",
       "std    10162.238404     8.133011    9.871271     9.639123   21.640826   \n",
       "min       83.500000   -10.577500  -20.708333   966.000000    3.771250   \n",
       "25%     8531.500000    -1.759201  -10.882738   977.297619    9.992882   \n",
       "50%    17327.500000     6.137500   -0.747500   986.614583   14.404851   \n",
       "75%    26021.500000    12.904613    7.672917   994.232143   25.440930   \n",
       "max    34835.500000    17.083333   14.409375  1005.937500  119.278667   \n",
       "\n",
       "       electricity_consumption  \n",
       "count               199.000000  \n",
       "mean                299.458617  \n",
       "std                  64.051937  \n",
       "min                 206.937500  \n",
       "25%                 258.910714  \n",
       "50%                 288.303571  \n",
       "75%                 321.843750  \n",
       "max                 630.850000  "
      ]
     },
     "execution_count": 39,
     "metadata": {},
     "output_type": "execute_result"
    }
   ],
   "source": [
    "weekly_mean.describe()"
   ]
  },
  {
   "cell_type": "code",
   "execution_count": null,
   "metadata": {
    "collapsed": true
   },
   "outputs": [],
   "source": []
  },
  {
   "cell_type": "code",
   "execution_count": 40,
   "metadata": {
    "collapsed": true
   },
   "outputs": [],
   "source": [
    "shft = mean_monthly.shift(periods=2)\n",
    "# Remember to take out the electricity consumption first "
   ]
  },
  {
   "cell_type": "code",
   "execution_count": 41,
   "metadata": {},
   "outputs": [
    {
     "data": {
      "text/html": [
       "<div>\n",
       "<style scoped>\n",
       "    .dataframe tbody tr th:only-of-type {\n",
       "        vertical-align: middle;\n",
       "    }\n",
       "\n",
       "    .dataframe tbody tr th {\n",
       "        vertical-align: top;\n",
       "    }\n",
       "\n",
       "    .dataframe thead th {\n",
       "        text-align: right;\n",
       "    }\n",
       "</style>\n",
       "<table border=\"1\" class=\"dataframe\">\n",
       "  <thead>\n",
       "    <tr style=\"text-align: right;\">\n",
       "      <th></th>\n",
       "      <th>ID</th>\n",
       "      <th>temperature</th>\n",
       "      <th>var1</th>\n",
       "      <th>pressure</th>\n",
       "      <th>windspeed</th>\n",
       "      <th>electricity_consumption</th>\n",
       "    </tr>\n",
       "    <tr>\n",
       "      <th>datetime</th>\n",
       "      <th></th>\n",
       "      <th></th>\n",
       "      <th></th>\n",
       "      <th></th>\n",
       "      <th></th>\n",
       "      <th></th>\n",
       "    </tr>\n",
       "  </thead>\n",
       "  <tbody>\n",
       "    <tr>\n",
       "      <th>2013-07-31</th>\n",
       "      <td>NaN</td>\n",
       "      <td>NaN</td>\n",
       "      <td>NaN</td>\n",
       "      <td>NaN</td>\n",
       "      <td>NaN</td>\n",
       "      <td>NaN</td>\n",
       "    </tr>\n",
       "    <tr>\n",
       "      <th>2013-08-31</th>\n",
       "      <td>NaN</td>\n",
       "      <td>NaN</td>\n",
       "      <td>NaN</td>\n",
       "      <td>NaN</td>\n",
       "      <td>NaN</td>\n",
       "      <td>NaN</td>\n",
       "    </tr>\n",
       "    <tr>\n",
       "      <th>2013-09-30</th>\n",
       "      <td>275.5</td>\n",
       "      <td>-8.021377</td>\n",
       "      <td>-17.582609</td>\n",
       "      <td>1001.355072</td>\n",
       "      <td>87.168306</td>\n",
       "      <td>240.217391</td>\n",
       "    </tr>\n",
       "    <tr>\n",
       "      <th>2013-10-31</th>\n",
       "      <td>1019.5</td>\n",
       "      <td>-4.794203</td>\n",
       "      <td>-10.662681</td>\n",
       "      <td>993.492754</td>\n",
       "      <td>16.071277</td>\n",
       "      <td>386.635870</td>\n",
       "    </tr>\n",
       "    <tr>\n",
       "      <th>2013-11-30</th>\n",
       "      <td>1763.5</td>\n",
       "      <td>0.894384</td>\n",
       "      <td>-12.194928</td>\n",
       "      <td>991.641304</td>\n",
       "      <td>48.516812</td>\n",
       "      <td>269.565217</td>\n",
       "    </tr>\n",
       "  </tbody>\n",
       "</table>\n",
       "</div>"
      ],
      "text/plain": [
       "                ID  temperature       var1     pressure  windspeed  \\\n",
       "datetime                                                             \n",
       "2013-07-31     NaN          NaN        NaN          NaN        NaN   \n",
       "2013-08-31     NaN          NaN        NaN          NaN        NaN   \n",
       "2013-09-30   275.5    -8.021377 -17.582609  1001.355072  87.168306   \n",
       "2013-10-31  1019.5    -4.794203 -10.662681   993.492754  16.071277   \n",
       "2013-11-30  1763.5     0.894384 -12.194928   991.641304  48.516812   \n",
       "\n",
       "            electricity_consumption  \n",
       "datetime                             \n",
       "2013-07-31                      NaN  \n",
       "2013-08-31                      NaN  \n",
       "2013-09-30               240.217391  \n",
       "2013-10-31               386.635870  \n",
       "2013-11-30               269.565217  "
      ]
     },
     "execution_count": 41,
     "metadata": {},
     "output_type": "execute_result"
    }
   ],
   "source": [
    "shft.head()"
   ]
  },
  {
   "cell_type": "code",
   "execution_count": null,
   "metadata": {
    "collapsed": true
   },
   "outputs": [],
   "source": []
  },
  {
   "cell_type": "code",
   "execution_count": null,
   "metadata": {
    "collapsed": true,
    "scrolled": true
   },
   "outputs": [],
   "source": []
  },
  {
   "cell_type": "code",
   "execution_count": 43,
   "metadata": {
    "collapsed": true
   },
   "outputs": [],
   "source": [
    "daily_data = data_raw.groupby(pd.Grouper(freq = 'D'))\n",
    "daily_mean = daily_data.apply(np.mean)\n"
   ]
  },
  {
   "cell_type": "markdown",
   "metadata": {},
   "source": [
    "### TODOs \n",
    "\n",
    "* Plotting function -- check\n",
    "* Aggregations ( mean sum)  \n",
    "-- We don't really need to lag the data although this could be useful later on \n",
    "* Time delays (figure out how to do weekly aggregations) \n",
    "* Generalize the shifted dataset (combinations - deleted first few observations and keep the rest \n",
    "* use an algorithm to generate predictions \n"
   ]
  },
  {
   "cell_type": "markdown",
   "metadata": {},
   "source": [
    "### Interesting Thoughts \n",
    "\n",
    "* Variation per day/ week/ min-max ratio fluctuations \n",
    "* Look at users and see if you can identify which users have a larger electricity consumption \n",
    "* Create segmentation/ flag for different cutoffs "
   ]
  },
  {
   "cell_type": "code",
   "execution_count": null,
   "metadata": {
    "collapsed": true
   },
   "outputs": [],
   "source": []
  },
  {
   "cell_type": "code",
   "execution_count": null,
   "metadata": {
    "collapsed": true
   },
   "outputs": [],
   "source": []
  },
  {
   "cell_type": "markdown",
   "metadata": {
    "collapsed": true
   },
   "source": [
    "### Quick peak at the other files "
   ]
  },
  {
   "cell_type": "raw",
   "metadata": {},
   "source": []
  },
  {
   "cell_type": "code",
   "execution_count": 165,
   "metadata": {
    "collapsed": true
   },
   "outputs": [],
   "source": [
    "test = pd.read_csv(\"test.csv\")"
   ]
  },
  {
   "cell_type": "code",
   "execution_count": 166,
   "metadata": {},
   "outputs": [
    {
     "data": {
      "text/html": [
       "<div>\n",
       "<style scoped>\n",
       "    .dataframe tbody tr th:only-of-type {\n",
       "        vertical-align: middle;\n",
       "    }\n",
       "\n",
       "    .dataframe tbody tr th {\n",
       "        vertical-align: top;\n",
       "    }\n",
       "\n",
       "    .dataframe thead th {\n",
       "        text-align: right;\n",
       "    }\n",
       "</style>\n",
       "<table border=\"1\" class=\"dataframe\">\n",
       "  <thead>\n",
       "    <tr style=\"text-align: right;\">\n",
       "      <th></th>\n",
       "      <th>ID</th>\n",
       "      <th>datetime</th>\n",
       "      <th>temperature</th>\n",
       "      <th>var1</th>\n",
       "      <th>pressure</th>\n",
       "      <th>windspeed</th>\n",
       "      <th>var2</th>\n",
       "    </tr>\n",
       "  </thead>\n",
       "  <tbody>\n",
       "    <tr>\n",
       "      <th>0</th>\n",
       "      <td>552</td>\n",
       "      <td>2013-07-24 00:00:00</td>\n",
       "      <td>-10.0</td>\n",
       "      <td>-16.4</td>\n",
       "      <td>1011.0</td>\n",
       "      <td>263.280</td>\n",
       "      <td>A</td>\n",
       "    </tr>\n",
       "    <tr>\n",
       "      <th>1</th>\n",
       "      <td>553</td>\n",
       "      <td>2013-07-24 01:00:00</td>\n",
       "      <td>-10.0</td>\n",
       "      <td>-20.7</td>\n",
       "      <td>1011.0</td>\n",
       "      <td>267.175</td>\n",
       "      <td>A</td>\n",
       "    </tr>\n",
       "    <tr>\n",
       "      <th>2</th>\n",
       "      <td>554</td>\n",
       "      <td>2013-07-24 02:00:00</td>\n",
       "      <td>-10.7</td>\n",
       "      <td>-17.1</td>\n",
       "      <td>1003.0</td>\n",
       "      <td>269.555</td>\n",
       "      <td>A</td>\n",
       "    </tr>\n",
       "    <tr>\n",
       "      <th>3</th>\n",
       "      <td>555</td>\n",
       "      <td>2013-07-24 03:00:00</td>\n",
       "      <td>-13.6</td>\n",
       "      <td>-20.7</td>\n",
       "      <td>1008.0</td>\n",
       "      <td>273.060</td>\n",
       "      <td>A</td>\n",
       "    </tr>\n",
       "    <tr>\n",
       "      <th>4</th>\n",
       "      <td>556</td>\n",
       "      <td>2013-07-24 04:00:00</td>\n",
       "      <td>-10.7</td>\n",
       "      <td>-17.1</td>\n",
       "      <td>1006.0</td>\n",
       "      <td>1.765</td>\n",
       "      <td>A</td>\n",
       "    </tr>\n",
       "  </tbody>\n",
       "</table>\n",
       "</div>"
      ],
      "text/plain": [
       "    ID             datetime  temperature  var1  pressure  windspeed var2\n",
       "0  552  2013-07-24 00:00:00        -10.0 -16.4    1011.0    263.280    A\n",
       "1  553  2013-07-24 01:00:00        -10.0 -20.7    1011.0    267.175    A\n",
       "2  554  2013-07-24 02:00:00        -10.7 -17.1    1003.0    269.555    A\n",
       "3  555  2013-07-24 03:00:00        -13.6 -20.7    1008.0    273.060    A\n",
       "4  556  2013-07-24 04:00:00        -10.7 -17.1    1006.0      1.765    A"
      ]
     },
     "execution_count": 166,
     "metadata": {},
     "output_type": "execute_result"
    }
   ],
   "source": [
    "test.head()"
   ]
  },
  {
   "cell_type": "code",
   "execution_count": null,
   "metadata": {
    "collapsed": true
   },
   "outputs": [],
   "source": []
  },
  {
   "cell_type": "code",
   "execution_count": 163,
   "metadata": {
    "collapsed": true
   },
   "outputs": [],
   "source": [
    "sub = pd.read_csv(\"sample_submission_q0Q3I1Z.csv\")"
   ]
  },
  {
   "cell_type": "code",
   "execution_count": 164,
   "metadata": {},
   "outputs": [
    {
     "data": {
      "text/html": [
       "<div>\n",
       "<style scoped>\n",
       "    .dataframe tbody tr th:only-of-type {\n",
       "        vertical-align: middle;\n",
       "    }\n",
       "\n",
       "    .dataframe tbody tr th {\n",
       "        vertical-align: top;\n",
       "    }\n",
       "\n",
       "    .dataframe thead th {\n",
       "        text-align: right;\n",
       "    }\n",
       "</style>\n",
       "<table border=\"1\" class=\"dataframe\">\n",
       "  <thead>\n",
       "    <tr style=\"text-align: right;\">\n",
       "      <th></th>\n",
       "      <th>ID</th>\n",
       "      <th>electricity_consumption</th>\n",
       "    </tr>\n",
       "  </thead>\n",
       "  <tbody>\n",
       "  </tbody>\n",
       "</table>\n",
       "</div>"
      ],
      "text/plain": [
       "Empty DataFrame\n",
       "Columns: [ID, electricity_consumption]\n",
       "Index: []"
      ]
     },
     "execution_count": 164,
     "metadata": {},
     "output_type": "execute_result"
    }
   ],
   "source": [
    "sub.head()"
   ]
  },
  {
   "cell_type": "code",
   "execution_count": null,
   "metadata": {
    "collapsed": true
   },
   "outputs": [],
   "source": []
  },
  {
   "cell_type": "code",
   "execution_count": null,
   "metadata": {
    "collapsed": true
   },
   "outputs": [],
   "source": []
  }
 ],
 "metadata": {
  "kernelspec": {
   "display_name": "Python 3",
   "language": "python",
   "name": "python3"
  },
  "language_info": {
   "codemirror_mode": {
    "name": "ipython",
    "version": 3
   },
   "file_extension": ".py",
   "mimetype": "text/x-python",
   "name": "python",
   "nbconvert_exporter": "python",
   "pygments_lexer": "ipython3",
   "version": "3.6.3"
  }
 },
 "nbformat": 4,
 "nbformat_minor": 2
}

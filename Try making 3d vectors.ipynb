{
 "cells": [
  {
   "cell_type": "markdown",
   "metadata": {},
   "source": [
    "### Notebook Purpose \n",
    "\n",
    "As of 03-22-18, the goal of this notebook is to use turn this time series dataset into a 3d tuple ready for CNN or RNNs.\n",
    "First, let's try to aggregate some time intervals into matrices. For example, the data is hourly so we can aggregate data from each week into a matrix and then stack the matrices, creating a 3d matrix "
   ]
  },
  {
   "cell_type": "code",
   "execution_count": 3,
   "metadata": {
    "collapsed": true
   },
   "outputs": [],
   "source": [
    "import pandas as pd \n",
    "import numpy as np \n",
    "import matplotlib.pyplot as plt \n",
    "%matplotlib inline"
   ]
  },
  {
   "cell_type": "code",
   "execution_count": 4,
   "metadata": {
    "collapsed": true
   },
   "outputs": [],
   "source": [
    "data_raw = pd.read_csv(\"train.csv\")"
   ]
  },
  {
   "cell_type": "code",
   "execution_count": 5,
   "metadata": {},
   "outputs": [
    {
     "data": {
      "text/plain": [
       "(26496, 8)"
      ]
     },
     "execution_count": 5,
     "metadata": {},
     "output_type": "execute_result"
    }
   ],
   "source": [
    "data_raw.shape"
   ]
  },
  {
   "cell_type": "code",
   "execution_count": 6,
   "metadata": {},
   "outputs": [
    {
     "data": {
      "text/html": [
       "<div>\n",
       "<style>\n",
       "    .dataframe thead tr:only-child th {\n",
       "        text-align: right;\n",
       "    }\n",
       "\n",
       "    .dataframe thead th {\n",
       "        text-align: left;\n",
       "    }\n",
       "\n",
       "    .dataframe tbody tr th {\n",
       "        vertical-align: top;\n",
       "    }\n",
       "</style>\n",
       "<table border=\"1\" class=\"dataframe\">\n",
       "  <thead>\n",
       "    <tr style=\"text-align: right;\">\n",
       "      <th></th>\n",
       "      <th>ID</th>\n",
       "      <th>datetime</th>\n",
       "      <th>temperature</th>\n",
       "      <th>var1</th>\n",
       "      <th>pressure</th>\n",
       "      <th>windspeed</th>\n",
       "      <th>var2</th>\n",
       "      <th>electricity_consumption</th>\n",
       "    </tr>\n",
       "  </thead>\n",
       "  <tbody>\n",
       "    <tr>\n",
       "      <th>0</th>\n",
       "      <td>0</td>\n",
       "      <td>2013-07-01 00:00:00</td>\n",
       "      <td>-11.4</td>\n",
       "      <td>-17.1</td>\n",
       "      <td>1003.0</td>\n",
       "      <td>571.910</td>\n",
       "      <td>A</td>\n",
       "      <td>216.0</td>\n",
       "    </tr>\n",
       "    <tr>\n",
       "      <th>1</th>\n",
       "      <td>1</td>\n",
       "      <td>2013-07-01 01:00:00</td>\n",
       "      <td>-12.1</td>\n",
       "      <td>-19.3</td>\n",
       "      <td>996.0</td>\n",
       "      <td>575.040</td>\n",
       "      <td>A</td>\n",
       "      <td>210.0</td>\n",
       "    </tr>\n",
       "    <tr>\n",
       "      <th>2</th>\n",
       "      <td>2</td>\n",
       "      <td>2013-07-01 02:00:00</td>\n",
       "      <td>-12.9</td>\n",
       "      <td>-20.0</td>\n",
       "      <td>1000.0</td>\n",
       "      <td>578.435</td>\n",
       "      <td>A</td>\n",
       "      <td>225.0</td>\n",
       "    </tr>\n",
       "    <tr>\n",
       "      <th>3</th>\n",
       "      <td>3</td>\n",
       "      <td>2013-07-01 03:00:00</td>\n",
       "      <td>-11.4</td>\n",
       "      <td>-17.1</td>\n",
       "      <td>995.0</td>\n",
       "      <td>582.580</td>\n",
       "      <td>A</td>\n",
       "      <td>216.0</td>\n",
       "    </tr>\n",
       "    <tr>\n",
       "      <th>4</th>\n",
       "      <td>4</td>\n",
       "      <td>2013-07-01 04:00:00</td>\n",
       "      <td>-11.4</td>\n",
       "      <td>-19.3</td>\n",
       "      <td>1005.0</td>\n",
       "      <td>586.600</td>\n",
       "      <td>A</td>\n",
       "      <td>222.0</td>\n",
       "    </tr>\n",
       "  </tbody>\n",
       "</table>\n",
       "</div>"
      ],
      "text/plain": [
       "   ID             datetime  temperature  var1  pressure  windspeed var2  \\\n",
       "0   0  2013-07-01 00:00:00        -11.4 -17.1    1003.0    571.910    A   \n",
       "1   1  2013-07-01 01:00:00        -12.1 -19.3     996.0    575.040    A   \n",
       "2   2  2013-07-01 02:00:00        -12.9 -20.0    1000.0    578.435    A   \n",
       "3   3  2013-07-01 03:00:00        -11.4 -17.1     995.0    582.580    A   \n",
       "4   4  2013-07-01 04:00:00        -11.4 -19.3    1005.0    586.600    A   \n",
       "\n",
       "   electricity_consumption  \n",
       "0                    216.0  \n",
       "1                    210.0  \n",
       "2                    225.0  \n",
       "3                    216.0  \n",
       "4                    222.0  "
      ]
     },
     "execution_count": 6,
     "metadata": {},
     "output_type": "execute_result"
    }
   ],
   "source": [
    "data_raw.head()"
   ]
  },
  {
   "cell_type": "code",
   "execution_count": 7,
   "metadata": {
    "collapsed": true
   },
   "outputs": [],
   "source": [
    "temp_dummies = pd.get_dummies(data_raw.var2).applymap(np.int)"
   ]
  },
  {
   "cell_type": "code",
   "execution_count": 8,
   "metadata": {
    "collapsed": true
   },
   "outputs": [],
   "source": [
    "data = pd.concat([data_raw, temp_dummies], axis = 1)\n",
    "data = data.drop([\"var2\"], axis = 1)"
   ]
  },
  {
   "cell_type": "code",
   "execution_count": 9,
   "metadata": {},
   "outputs": [
    {
     "data": {
      "text/plain": [
       "(26496, 10)"
      ]
     },
     "execution_count": 9,
     "metadata": {},
     "output_type": "execute_result"
    }
   ],
   "source": [
    "data.shape"
   ]
  },
  {
   "cell_type": "code",
   "execution_count": 10,
   "metadata": {},
   "outputs": [
    {
     "data": {
      "text/html": [
       "<div>\n",
       "<style>\n",
       "    .dataframe thead tr:only-child th {\n",
       "        text-align: right;\n",
       "    }\n",
       "\n",
       "    .dataframe thead th {\n",
       "        text-align: left;\n",
       "    }\n",
       "\n",
       "    .dataframe tbody tr th {\n",
       "        vertical-align: top;\n",
       "    }\n",
       "</style>\n",
       "<table border=\"1\" class=\"dataframe\">\n",
       "  <thead>\n",
       "    <tr style=\"text-align: right;\">\n",
       "      <th></th>\n",
       "      <th>ID</th>\n",
       "      <th>datetime</th>\n",
       "      <th>temperature</th>\n",
       "      <th>var1</th>\n",
       "      <th>pressure</th>\n",
       "      <th>windspeed</th>\n",
       "      <th>electricity_consumption</th>\n",
       "      <th>A</th>\n",
       "      <th>B</th>\n",
       "      <th>C</th>\n",
       "    </tr>\n",
       "  </thead>\n",
       "  <tbody>\n",
       "    <tr>\n",
       "      <th>0</th>\n",
       "      <td>0</td>\n",
       "      <td>2013-07-01 00:00:00</td>\n",
       "      <td>-11.4</td>\n",
       "      <td>-17.1</td>\n",
       "      <td>1003.0</td>\n",
       "      <td>571.910</td>\n",
       "      <td>216.0</td>\n",
       "      <td>1</td>\n",
       "      <td>0</td>\n",
       "      <td>0</td>\n",
       "    </tr>\n",
       "    <tr>\n",
       "      <th>1</th>\n",
       "      <td>1</td>\n",
       "      <td>2013-07-01 01:00:00</td>\n",
       "      <td>-12.1</td>\n",
       "      <td>-19.3</td>\n",
       "      <td>996.0</td>\n",
       "      <td>575.040</td>\n",
       "      <td>210.0</td>\n",
       "      <td>1</td>\n",
       "      <td>0</td>\n",
       "      <td>0</td>\n",
       "    </tr>\n",
       "    <tr>\n",
       "      <th>2</th>\n",
       "      <td>2</td>\n",
       "      <td>2013-07-01 02:00:00</td>\n",
       "      <td>-12.9</td>\n",
       "      <td>-20.0</td>\n",
       "      <td>1000.0</td>\n",
       "      <td>578.435</td>\n",
       "      <td>225.0</td>\n",
       "      <td>1</td>\n",
       "      <td>0</td>\n",
       "      <td>0</td>\n",
       "    </tr>\n",
       "    <tr>\n",
       "      <th>3</th>\n",
       "      <td>3</td>\n",
       "      <td>2013-07-01 03:00:00</td>\n",
       "      <td>-11.4</td>\n",
       "      <td>-17.1</td>\n",
       "      <td>995.0</td>\n",
       "      <td>582.580</td>\n",
       "      <td>216.0</td>\n",
       "      <td>1</td>\n",
       "      <td>0</td>\n",
       "      <td>0</td>\n",
       "    </tr>\n",
       "    <tr>\n",
       "      <th>4</th>\n",
       "      <td>4</td>\n",
       "      <td>2013-07-01 04:00:00</td>\n",
       "      <td>-11.4</td>\n",
       "      <td>-19.3</td>\n",
       "      <td>1005.0</td>\n",
       "      <td>586.600</td>\n",
       "      <td>222.0</td>\n",
       "      <td>1</td>\n",
       "      <td>0</td>\n",
       "      <td>0</td>\n",
       "    </tr>\n",
       "  </tbody>\n",
       "</table>\n",
       "</div>"
      ],
      "text/plain": [
       "   ID             datetime  temperature  var1  pressure  windspeed  \\\n",
       "0   0  2013-07-01 00:00:00        -11.4 -17.1    1003.0    571.910   \n",
       "1   1  2013-07-01 01:00:00        -12.1 -19.3     996.0    575.040   \n",
       "2   2  2013-07-01 02:00:00        -12.9 -20.0    1000.0    578.435   \n",
       "3   3  2013-07-01 03:00:00        -11.4 -17.1     995.0    582.580   \n",
       "4   4  2013-07-01 04:00:00        -11.4 -19.3    1005.0    586.600   \n",
       "\n",
       "   electricity_consumption  A  B  C  \n",
       "0                    216.0  1  0  0  \n",
       "1                    210.0  1  0  0  \n",
       "2                    225.0  1  0  0  \n",
       "3                    216.0  1  0  0  \n",
       "4                    222.0  1  0  0  "
      ]
     },
     "execution_count": 10,
     "metadata": {},
     "output_type": "execute_result"
    }
   ],
   "source": [
    "data.head()"
   ]
  },
  {
   "cell_type": "markdown",
   "metadata": {},
   "source": [
    "For more details look at previous notebook -- Analytics Vidhya 01-12-17\n",
    "\n",
    "### Begin aggregations"
   ]
  },
  {
   "cell_type": "code",
   "execution_count": 11,
   "metadata": {
    "collapsed": true
   },
   "outputs": [],
   "source": [
    "data.index = pd.to_datetime(data.datetime)"
   ]
  },
  {
   "cell_type": "code",
   "execution_count": 12,
   "metadata": {
    "collapsed": true
   },
   "outputs": [],
   "source": [
    "#data_agg_prep = data.drop([\"datetime\"], axis =1)"
   ]
  },
  {
   "cell_type": "code",
   "execution_count": 13,
   "metadata": {
    "collapsed": true
   },
   "outputs": [],
   "source": [
    "daily_data_gb = data.groupby(pd.Grouper(freq = 'D'))"
   ]
  },
  {
   "cell_type": "code",
   "execution_count": 14,
   "metadata": {},
   "outputs": [
    {
     "data": {
      "text/plain": [
       "1454"
      ]
     },
     "execution_count": 14,
     "metadata": {},
     "output_type": "execute_result"
    }
   ],
   "source": [
    "len(daily_data_gb)"
   ]
  },
  {
   "cell_type": "code",
   "execution_count": 15,
   "metadata": {},
   "outputs": [
    {
     "data": {
      "text/plain": [
       "datetime                           \n",
       "2013-07-01  ID                           11.500000\n",
       "            temperature                  -8.741667\n",
       "            var1                        -17.016667\n",
       "            pressure                   1003.208333\n",
       "            windspeed                   150.613750\n",
       "            electricity_consumption     214.000000\n",
       "            A                             1.000000\n",
       "            B                             0.000000\n",
       "            C                             0.000000\n",
       "2013-07-02  ID                           35.500000\n",
       "            temperature                  -7.566667\n",
       "            var1                        -15.687500\n",
       "            pressure                   1006.375000\n",
       "            windspeed                    10.603125\n",
       "            electricity_consumption     229.250000\n",
       "            A                             1.000000\n",
       "            B                             0.000000\n",
       "            C                             0.000000\n",
       "2013-07-03  ID                           59.500000\n",
       "            temperature                  -8.091667\n",
       "dtype: float64"
      ]
     },
     "execution_count": 15,
     "metadata": {},
     "output_type": "execute_result"
    }
   ],
   "source": [
    "daily_data_gb.apply(np.mean).head(20)"
   ]
  },
  {
   "cell_type": "code",
   "execution_count": 16,
   "metadata": {},
   "outputs": [
    {
     "data": {
      "text/plain": [
       "datetime\n",
       "2013-07-01    24\n",
       "2013-07-02    24\n",
       "2013-07-03    24\n",
       "2013-07-04    24\n",
       "2013-07-05    24\n",
       "Freq: D, dtype: int64"
      ]
     },
     "execution_count": 16,
     "metadata": {},
     "output_type": "execute_result"
    }
   ],
   "source": [
    "daily_data_gb.size().head()"
   ]
  },
  {
   "cell_type": "code",
   "execution_count": 18,
   "metadata": {},
   "outputs": [
    {
     "name": "stdout",
     "output_type": "stream",
     "text": [
      "Original shape:  (26496, 10)\n"
     ]
    }
   ],
   "source": [
    "print(\"Original shape: \", data.shape)"
   ]
  },
  {
   "cell_type": "markdown",
   "metadata": {
    "collapsed": true
   },
   "source": [
    "https://machinelearningmastery.com/multivariate-time-series-forecasting-lstms-keras/"
   ]
  },
  {
   "cell_type": "code",
   "execution_count": 19,
   "metadata": {
    "collapsed": true
   },
   "outputs": [],
   "source": [
    "from sklearn.preprocessing import MinMaxScaler, StandardScaler"
   ]
  },
  {
   "cell_type": "code",
   "execution_count": 20,
   "metadata": {},
   "outputs": [
    {
     "data": {
      "text/html": [
       "<div>\n",
       "<style>\n",
       "    .dataframe thead tr:only-child th {\n",
       "        text-align: right;\n",
       "    }\n",
       "\n",
       "    .dataframe thead th {\n",
       "        text-align: left;\n",
       "    }\n",
       "\n",
       "    .dataframe tbody tr th {\n",
       "        vertical-align: top;\n",
       "    }\n",
       "</style>\n",
       "<table border=\"1\" class=\"dataframe\">\n",
       "  <thead>\n",
       "    <tr style=\"text-align: right;\">\n",
       "      <th></th>\n",
       "      <th>ID</th>\n",
       "      <th>datetime</th>\n",
       "      <th>temperature</th>\n",
       "      <th>var1</th>\n",
       "      <th>pressure</th>\n",
       "      <th>windspeed</th>\n",
       "      <th>electricity_consumption</th>\n",
       "      <th>A</th>\n",
       "      <th>B</th>\n",
       "      <th>C</th>\n",
       "    </tr>\n",
       "    <tr>\n",
       "      <th>datetime</th>\n",
       "      <th></th>\n",
       "      <th></th>\n",
       "      <th></th>\n",
       "      <th></th>\n",
       "      <th></th>\n",
       "      <th></th>\n",
       "      <th></th>\n",
       "      <th></th>\n",
       "      <th></th>\n",
       "      <th></th>\n",
       "    </tr>\n",
       "  </thead>\n",
       "  <tbody>\n",
       "    <tr>\n",
       "      <th>2013-07-01 00:00:00</th>\n",
       "      <td>0</td>\n",
       "      <td>2013-07-01 00:00:00</td>\n",
       "      <td>-11.4</td>\n",
       "      <td>-17.1</td>\n",
       "      <td>1003.0</td>\n",
       "      <td>571.910</td>\n",
       "      <td>216.0</td>\n",
       "      <td>1</td>\n",
       "      <td>0</td>\n",
       "      <td>0</td>\n",
       "    </tr>\n",
       "    <tr>\n",
       "      <th>2013-07-01 01:00:00</th>\n",
       "      <td>1</td>\n",
       "      <td>2013-07-01 01:00:00</td>\n",
       "      <td>-12.1</td>\n",
       "      <td>-19.3</td>\n",
       "      <td>996.0</td>\n",
       "      <td>575.040</td>\n",
       "      <td>210.0</td>\n",
       "      <td>1</td>\n",
       "      <td>0</td>\n",
       "      <td>0</td>\n",
       "    </tr>\n",
       "    <tr>\n",
       "      <th>2013-07-01 02:00:00</th>\n",
       "      <td>2</td>\n",
       "      <td>2013-07-01 02:00:00</td>\n",
       "      <td>-12.9</td>\n",
       "      <td>-20.0</td>\n",
       "      <td>1000.0</td>\n",
       "      <td>578.435</td>\n",
       "      <td>225.0</td>\n",
       "      <td>1</td>\n",
       "      <td>0</td>\n",
       "      <td>0</td>\n",
       "    </tr>\n",
       "    <tr>\n",
       "      <th>2013-07-01 03:00:00</th>\n",
       "      <td>3</td>\n",
       "      <td>2013-07-01 03:00:00</td>\n",
       "      <td>-11.4</td>\n",
       "      <td>-17.1</td>\n",
       "      <td>995.0</td>\n",
       "      <td>582.580</td>\n",
       "      <td>216.0</td>\n",
       "      <td>1</td>\n",
       "      <td>0</td>\n",
       "      <td>0</td>\n",
       "    </tr>\n",
       "    <tr>\n",
       "      <th>2013-07-01 04:00:00</th>\n",
       "      <td>4</td>\n",
       "      <td>2013-07-01 04:00:00</td>\n",
       "      <td>-11.4</td>\n",
       "      <td>-19.3</td>\n",
       "      <td>1005.0</td>\n",
       "      <td>586.600</td>\n",
       "      <td>222.0</td>\n",
       "      <td>1</td>\n",
       "      <td>0</td>\n",
       "      <td>0</td>\n",
       "    </tr>\n",
       "  </tbody>\n",
       "</table>\n",
       "</div>"
      ],
      "text/plain": [
       "                     ID             datetime  temperature  var1  pressure  \\\n",
       "datetime                                                                    \n",
       "2013-07-01 00:00:00   0  2013-07-01 00:00:00        -11.4 -17.1    1003.0   \n",
       "2013-07-01 01:00:00   1  2013-07-01 01:00:00        -12.1 -19.3     996.0   \n",
       "2013-07-01 02:00:00   2  2013-07-01 02:00:00        -12.9 -20.0    1000.0   \n",
       "2013-07-01 03:00:00   3  2013-07-01 03:00:00        -11.4 -17.1     995.0   \n",
       "2013-07-01 04:00:00   4  2013-07-01 04:00:00        -11.4 -19.3    1005.0   \n",
       "\n",
       "                     windspeed  electricity_consumption  A  B  C  \n",
       "datetime                                                          \n",
       "2013-07-01 00:00:00    571.910                    216.0  1  0  0  \n",
       "2013-07-01 01:00:00    575.040                    210.0  1  0  0  \n",
       "2013-07-01 02:00:00    578.435                    225.0  1  0  0  \n",
       "2013-07-01 03:00:00    582.580                    216.0  1  0  0  \n",
       "2013-07-01 04:00:00    586.600                    222.0  1  0  0  "
      ]
     },
     "execution_count": 20,
     "metadata": {},
     "output_type": "execute_result"
    }
   ],
   "source": [
    "data.head()"
   ]
  },
  {
   "cell_type": "code",
   "execution_count": 21,
   "metadata": {
    "collapsed": true
   },
   "outputs": [],
   "source": [
    "data_pre_scaled = data.drop([\"ID\", \"datetime\"], axis = 1)"
   ]
  },
  {
   "cell_type": "code",
   "execution_count": 22,
   "metadata": {
    "collapsed": true
   },
   "outputs": [],
   "source": [
    "scaler = StandardScaler().fit(data_pre_scaled)"
   ]
  },
  {
   "cell_type": "code",
   "execution_count": 28,
   "metadata": {
    "collapsed": true
   },
   "outputs": [],
   "source": [
    "data_scaled = pd.DataFrame(scaler.transform(data_pre_scaled), columns= data_pre_scaled.columns, index = data_pre_scaled.index)"
   ]
  },
  {
   "cell_type": "code",
   "execution_count": 29,
   "metadata": {},
   "outputs": [
    {
     "data": {
      "text/html": [
       "<div>\n",
       "<style>\n",
       "    .dataframe thead tr:only-child th {\n",
       "        text-align: right;\n",
       "    }\n",
       "\n",
       "    .dataframe thead th {\n",
       "        text-align: left;\n",
       "    }\n",
       "\n",
       "    .dataframe tbody tr th {\n",
       "        vertical-align: top;\n",
       "    }\n",
       "</style>\n",
       "<table border=\"1\" class=\"dataframe\">\n",
       "  <thead>\n",
       "    <tr style=\"text-align: right;\">\n",
       "      <th></th>\n",
       "      <th>temperature</th>\n",
       "      <th>var1</th>\n",
       "      <th>pressure</th>\n",
       "      <th>windspeed</th>\n",
       "      <th>electricity_consumption</th>\n",
       "      <th>A</th>\n",
       "      <th>B</th>\n",
       "      <th>C</th>\n",
       "    </tr>\n",
       "    <tr>\n",
       "      <th>datetime</th>\n",
       "      <th></th>\n",
       "      <th></th>\n",
       "      <th></th>\n",
       "      <th></th>\n",
       "      <th></th>\n",
       "      <th></th>\n",
       "      <th></th>\n",
       "      <th></th>\n",
       "    </tr>\n",
       "  </thead>\n",
       "  <tbody>\n",
       "    <tr>\n",
       "      <th>2013-07-01 00:00:00</th>\n",
       "      <td>-1.900215</td>\n",
       "      <td>-1.456523</td>\n",
       "      <td>1.378837</td>\n",
       "      <td>11.349560</td>\n",
       "      <td>-0.762458</td>\n",
       "      <td>0.223168</td>\n",
       "      <td>-0.090871</td>\n",
       "      <td>-0.202126</td>\n",
       "    </tr>\n",
       "    <tr>\n",
       "      <th>2013-07-01 01:00:00</th>\n",
       "      <td>-1.980835</td>\n",
       "      <td>-1.667561</td>\n",
       "      <td>0.795622</td>\n",
       "      <td>11.414391</td>\n",
       "      <td>-0.818004</td>\n",
       "      <td>0.223168</td>\n",
       "      <td>-0.090871</td>\n",
       "      <td>-0.202126</td>\n",
       "    </tr>\n",
       "    <tr>\n",
       "      <th>2013-07-01 02:00:00</th>\n",
       "      <td>-2.072972</td>\n",
       "      <td>-1.734710</td>\n",
       "      <td>1.128888</td>\n",
       "      <td>11.484710</td>\n",
       "      <td>-0.679139</td>\n",
       "      <td>0.223168</td>\n",
       "      <td>-0.090871</td>\n",
       "      <td>-0.202126</td>\n",
       "    </tr>\n",
       "    <tr>\n",
       "      <th>2013-07-01 03:00:00</th>\n",
       "      <td>-1.900215</td>\n",
       "      <td>-1.456523</td>\n",
       "      <td>0.712305</td>\n",
       "      <td>11.570565</td>\n",
       "      <td>-0.762458</td>\n",
       "      <td>0.223168</td>\n",
       "      <td>-0.090871</td>\n",
       "      <td>-0.202126</td>\n",
       "    </tr>\n",
       "    <tr>\n",
       "      <th>2013-07-01 04:00:00</th>\n",
       "      <td>-1.900215</td>\n",
       "      <td>-1.667561</td>\n",
       "      <td>1.545470</td>\n",
       "      <td>11.653830</td>\n",
       "      <td>-0.706912</td>\n",
       "      <td>0.223168</td>\n",
       "      <td>-0.090871</td>\n",
       "      <td>-0.202126</td>\n",
       "    </tr>\n",
       "  </tbody>\n",
       "</table>\n",
       "</div>"
      ],
      "text/plain": [
       "                     temperature      var1  pressure  windspeed  \\\n",
       "datetime                                                          \n",
       "2013-07-01 00:00:00    -1.900215 -1.456523  1.378837  11.349560   \n",
       "2013-07-01 01:00:00    -1.980835 -1.667561  0.795622  11.414391   \n",
       "2013-07-01 02:00:00    -2.072972 -1.734710  1.128888  11.484710   \n",
       "2013-07-01 03:00:00    -1.900215 -1.456523  0.712305  11.570565   \n",
       "2013-07-01 04:00:00    -1.900215 -1.667561  1.545470  11.653830   \n",
       "\n",
       "                     electricity_consumption         A         B         C  \n",
       "datetime                                                                    \n",
       "2013-07-01 00:00:00                -0.762458  0.223168 -0.090871 -0.202126  \n",
       "2013-07-01 01:00:00                -0.818004  0.223168 -0.090871 -0.202126  \n",
       "2013-07-01 02:00:00                -0.679139  0.223168 -0.090871 -0.202126  \n",
       "2013-07-01 03:00:00                -0.762458  0.223168 -0.090871 -0.202126  \n",
       "2013-07-01 04:00:00                -0.706912  0.223168 -0.090871 -0.202126  "
      ]
     },
     "execution_count": 29,
     "metadata": {},
     "output_type": "execute_result"
    }
   ],
   "source": [
    "data_scaled.head()"
   ]
  },
  {
   "cell_type": "markdown",
   "metadata": {},
   "source": [
    "Below is a function to shift the data by a certain number of time periods to make the data a forecasting problem  \n",
    "As this is competition data, I don't think the data needs to be shifted as we are allowed to have the time period's data.  \n",
    "I'll keep this function  here for reference "
   ]
  },
  {
   "cell_type": "code",
   "execution_count": 32,
   "metadata": {
    "collapsed": true
   },
   "outputs": [],
   "source": [
    "def series_to_supervised(data, n_in=1, n_out=1, dropnan=True):\n",
    "    \"\"\"\n",
    "    Frame a time series as a supervised learning dataset.\n",
    "\tArguments:\n",
    "\t\tdata: Sequence of observations as a list or NumPy array.\n",
    "\t\tn_in: Number of lag observations as input (X).\n",
    "\t\tn_out: Number of observations as output (y).\n",
    "\t\tdropnan: Boolean whether or not to drop rows with NaN values.\n",
    "\tReturns:\n",
    "\t\tPandas DataFrame of series framed for supervised learning.\n",
    "    Source: \n",
    "        https://machinelearningmastery.com/convert-time-series-supervised-learning-problem-python/ \n",
    "\t\"\"\"\n",
    "\tn_vars = 1 if type(data) is list else data.shape[1]\n",
    "\tdf = pd.DataFrame(data)\n",
    "\tcols, names = list(), list()\n",
    "\t# input sequence (t-n, ... t-1)\n",
    "\tfor i in range(n_in, 0, -1):\n",
    "\t\tcols.append(df.shift(i))\n",
    "\t\tnames += [('var%d(t-%d)' % (j+1, i)) for j in range(n_vars)]\n",
    "\t# forecast sequence (t, t+1, ... t+n)\n",
    "\tfor i in range(0, n_out):\n",
    "\t\tcols.append(df.shift(-i))\n",
    "\t\tif i == 0:\n",
    "\t\t\tnames += [('var%d(t)' % (j+1)) for j in range(n_vars)]\n",
    "\t\telse:\n",
    "\t\t\tnames += [('var%d(t+%d)' % (j+1, i)) for j in range(n_vars)]\n",
    "\t# put it all together\n",
    "\tagg = concat(cols, axis=1)\n",
    "\tagg.columns = names\n",
    "\t# drop rows with NaN values\n",
    "\tif dropnan:\n",
    "\t\tagg.dropna(inplace=True)\n",
    "\treturn agg"
   ]
  },
  {
   "cell_type": "code",
   "execution_count": 30,
   "metadata": {},
   "outputs": [
    {
     "data": {
      "text/html": [
       "<div>\n",
       "<style>\n",
       "    .dataframe thead tr:only-child th {\n",
       "        text-align: right;\n",
       "    }\n",
       "\n",
       "    .dataframe thead th {\n",
       "        text-align: left;\n",
       "    }\n",
       "\n",
       "    .dataframe tbody tr th {\n",
       "        vertical-align: top;\n",
       "    }\n",
       "</style>\n",
       "<table border=\"1\" class=\"dataframe\">\n",
       "  <thead>\n",
       "    <tr style=\"text-align: right;\">\n",
       "      <th></th>\n",
       "      <th>temperature</th>\n",
       "      <th>var1</th>\n",
       "      <th>pressure</th>\n",
       "      <th>windspeed</th>\n",
       "      <th>electricity_consumption</th>\n",
       "      <th>A</th>\n",
       "      <th>B</th>\n",
       "      <th>C</th>\n",
       "    </tr>\n",
       "    <tr>\n",
       "      <th>datetime</th>\n",
       "      <th></th>\n",
       "      <th></th>\n",
       "      <th></th>\n",
       "      <th></th>\n",
       "      <th></th>\n",
       "      <th></th>\n",
       "      <th></th>\n",
       "      <th></th>\n",
       "    </tr>\n",
       "  </thead>\n",
       "  <tbody>\n",
       "    <tr>\n",
       "      <th>2013-07-01 00:00:00</th>\n",
       "      <td>-1.900215</td>\n",
       "      <td>-1.456523</td>\n",
       "      <td>1.378837</td>\n",
       "      <td>11.349560</td>\n",
       "      <td>-0.762458</td>\n",
       "      <td>0.223168</td>\n",
       "      <td>-0.090871</td>\n",
       "      <td>-0.202126</td>\n",
       "    </tr>\n",
       "    <tr>\n",
       "      <th>2013-07-01 01:00:00</th>\n",
       "      <td>-1.980835</td>\n",
       "      <td>-1.667561</td>\n",
       "      <td>0.795622</td>\n",
       "      <td>11.414391</td>\n",
       "      <td>-0.818004</td>\n",
       "      <td>0.223168</td>\n",
       "      <td>-0.090871</td>\n",
       "      <td>-0.202126</td>\n",
       "    </tr>\n",
       "    <tr>\n",
       "      <th>2013-07-01 02:00:00</th>\n",
       "      <td>-2.072972</td>\n",
       "      <td>-1.734710</td>\n",
       "      <td>1.128888</td>\n",
       "      <td>11.484710</td>\n",
       "      <td>-0.679139</td>\n",
       "      <td>0.223168</td>\n",
       "      <td>-0.090871</td>\n",
       "      <td>-0.202126</td>\n",
       "    </tr>\n",
       "    <tr>\n",
       "      <th>2013-07-01 03:00:00</th>\n",
       "      <td>-1.900215</td>\n",
       "      <td>-1.456523</td>\n",
       "      <td>0.712305</td>\n",
       "      <td>11.570565</td>\n",
       "      <td>-0.762458</td>\n",
       "      <td>0.223168</td>\n",
       "      <td>-0.090871</td>\n",
       "      <td>-0.202126</td>\n",
       "    </tr>\n",
       "    <tr>\n",
       "      <th>2013-07-01 04:00:00</th>\n",
       "      <td>-1.900215</td>\n",
       "      <td>-1.667561</td>\n",
       "      <td>1.545470</td>\n",
       "      <td>11.653830</td>\n",
       "      <td>-0.706912</td>\n",
       "      <td>0.223168</td>\n",
       "      <td>-0.090871</td>\n",
       "      <td>-0.202126</td>\n",
       "    </tr>\n",
       "  </tbody>\n",
       "</table>\n",
       "</div>"
      ],
      "text/plain": [
       "                     temperature      var1  pressure  windspeed  \\\n",
       "datetime                                                          \n",
       "2013-07-01 00:00:00    -1.900215 -1.456523  1.378837  11.349560   \n",
       "2013-07-01 01:00:00    -1.980835 -1.667561  0.795622  11.414391   \n",
       "2013-07-01 02:00:00    -2.072972 -1.734710  1.128888  11.484710   \n",
       "2013-07-01 03:00:00    -1.900215 -1.456523  0.712305  11.570565   \n",
       "2013-07-01 04:00:00    -1.900215 -1.667561  1.545470  11.653830   \n",
       "\n",
       "                     electricity_consumption         A         B         C  \n",
       "datetime                                                                    \n",
       "2013-07-01 00:00:00                -0.762458  0.223168 -0.090871 -0.202126  \n",
       "2013-07-01 01:00:00                -0.818004  0.223168 -0.090871 -0.202126  \n",
       "2013-07-01 02:00:00                -0.679139  0.223168 -0.090871 -0.202126  \n",
       "2013-07-01 03:00:00                -0.762458  0.223168 -0.090871 -0.202126  \n",
       "2013-07-01 04:00:00                -0.706912  0.223168 -0.090871 -0.202126  "
      ]
     },
     "execution_count": 30,
     "metadata": {},
     "output_type": "execute_result"
    }
   ],
   "source": [
    "data_scaled.head()"
   ]
  },
  {
   "cell_type": "code",
   "execution_count": 51,
   "metadata": {},
   "outputs": [],
   "source": [
    "def put_item_last(main_list, last_element):\n",
    "    \"\"\"\n",
    "    This functions puts an item at the end of a list \n",
    "    inputs: \n",
    "        main_list = list with items not in correct order \n",
    "        last element = item that should be put last \n",
    "    output:\n",
    "        ls = list with correct item in last position \n",
    "    \"\"\"\n",
    "    ls = [item for item in main_list if item != last_element]\n",
    "    ls.append(last_element)\n",
    "    return (ls)"
   ]
  },
  {
   "cell_type": "code",
   "execution_count": 57,
   "metadata": {},
   "outputs": [
    {
     "data": {
      "text/plain": [
       "['temperature',\n",
       " 'var1',\n",
       " 'pressure',\n",
       " 'windspeed',\n",
       " 'A',\n",
       " 'B',\n",
       " 'C',\n",
       " 'electricity_consumption']"
      ]
     },
     "execution_count": 57,
     "metadata": {},
     "output_type": "execute_result"
    }
   ],
   "source": [
    "put_item_last(data_scaled.columns, \"electricity_consumption\")"
   ]
  },
  {
   "cell_type": "raw",
   "metadata": {},
   "source": [
    "df2 = data_scaled.reindex(put_item_last(data_scaled.columns, \"electricity_consumtion\"), axis = 1)"
   ]
  },
  {
   "cell_type": "code",
   "execution_count": 61,
   "metadata": {},
   "outputs": [],
   "source": [
    "values = data_scaled[put_item_last(data_scaled.columns, \"electricity_consumption\")]"
   ]
  },
  {
   "cell_type": "markdown",
   "metadata": {},
   "source": [
    "Use first year as training data  \n",
    "Data should be in the format of [samples, timesteps, features] \n",
    "\n",
    "**TODO List ** \n",
    "* Think about the input time range -- we have to be more careful about selecting the the days per year \n",
    "* Should verify hour ranges with groupby statements \n",
    "* Rolling up into function to test different initializations to see how they do \n"
   ]
  },
  {
   "cell_type": "code",
   "execution_count": 164,
   "metadata": {},
   "outputs": [
    {
     "name": "stdout",
     "output_type": "stream",
     "text": [
      "(26280, 1, 7) (26280,) (216, 1, 7) (216,)\n"
     ]
    }
   ],
   "source": [
    "n_train_hours = 365 * 24 * 3\n",
    "train = values.iloc[:n_train_hours, :]\n",
    "test = values.iloc[n_train_hours:, :]\n",
    "# split into input and outputs\n",
    "train_X, train_y = train.iloc[:, :-1], train.iloc[:, -1]\n",
    "test_X, test_y = test.iloc[:, :-1], test.iloc[:, -1]\n",
    "# reshape input to be 3D [samples, timesteps, features]\n",
    "train_X = train_X.values.reshape((train_X.shape[0], 1, train_X.shape[1]))\n",
    "test_X = test_X.values.reshape((test_X.shape[0], 1, test_X.shape[1]))\n",
    "print(train_X.shape, train_y.shape, test_X.shape, test_y.shape)"
   ]
  },
  {
   "cell_type": "code",
   "execution_count": null,
   "metadata": {},
   "outputs": [],
   "source": []
  },
  {
   "cell_type": "code",
   "execution_count": 165,
   "metadata": {},
   "outputs": [],
   "source": [
    "from keras.models import Sequential\n",
    "from keras.layers import Dense, LSTM"
   ]
  },
  {
   "cell_type": "code",
   "execution_count": 188,
   "metadata": {
    "scrolled": true
   },
   "outputs": [
    {
     "name": "stdout",
     "output_type": "stream",
     "text": [
      "Train on 8760 samples, validate on 17736 samples\n",
      "Epoch 1/40\n",
      "8760/8760 [==============================] - 2s 181us/step - loss: 0.6861 - val_loss: 0.6772\n",
      "Epoch 2/40\n",
      "8760/8760 [==============================] - 0s 56us/step - loss: 0.6599 - val_loss: 0.6638\n",
      "Epoch 3/40\n",
      "8760/8760 [==============================] - 0s 56us/step - loss: 0.6465 - val_loss: 0.6553\n",
      "Epoch 4/40\n",
      "8760/8760 [==============================] - 1s 61us/step - loss: 0.6379 - val_loss: 0.6480\n",
      "Epoch 5/40\n",
      "8760/8760 [==============================] - 1s 59us/step - loss: 0.6301 - val_loss: 0.6410\n",
      "Epoch 6/40\n",
      "8760/8760 [==============================] - 1s 60us/step - loss: 0.6227 - val_loss: 0.6347\n",
      "Epoch 7/40\n",
      "8760/8760 [==============================] - 1s 59us/step - loss: 0.6162 - val_loss: 0.6294\n",
      "Epoch 8/40\n",
      "8760/8760 [==============================] - 1s 59us/step - loss: 0.6108 - val_loss: 0.6251\n",
      "Epoch 9/40\n",
      "8760/8760 [==============================] - 1s 59us/step - loss: 0.6069 - val_loss: 0.6215\n",
      "Epoch 10/40\n",
      "8760/8760 [==============================] - 1s 59us/step - loss: 0.6040 - val_loss: 0.6186\n",
      "Epoch 11/40\n",
      "8760/8760 [==============================] - 1s 60us/step - loss: 0.6019 - val_loss: 0.6165\n",
      "Epoch 12/40\n",
      "8760/8760 [==============================] - 1s 61us/step - loss: 0.6003 - val_loss: 0.6149\n",
      "Epoch 13/40\n",
      "8760/8760 [==============================] - 1s 61us/step - loss: 0.5990 - val_loss: 0.6137\n",
      "Epoch 14/40\n",
      "8760/8760 [==============================] - 1s 58us/step - loss: 0.5980 - val_loss: 0.6129\n",
      "Epoch 15/40\n",
      "8760/8760 [==============================] - 1s 70us/step - loss: 0.5970 - val_loss: 0.6120\n",
      "Epoch 16/40\n",
      "8760/8760 [==============================] - 1s 63us/step - loss: 0.5961 - val_loss: 0.6112\n",
      "Epoch 17/40\n",
      "8760/8760 [==============================] - 1s 72us/step - loss: 0.5953 - val_loss: 0.6106\n",
      "Epoch 18/40\n",
      "8760/8760 [==============================] - 1s 69us/step - loss: 0.5945 - val_loss: 0.6099\n",
      "Epoch 19/40\n",
      "8760/8760 [==============================] - 1s 64us/step - loss: 0.5937 - val_loss: 0.6092\n",
      "Epoch 20/40\n",
      "8760/8760 [==============================] - 1s 79us/step - loss: 0.5931 - val_loss: 0.6086\n",
      "Epoch 21/40\n",
      "8760/8760 [==============================] - 1s 65us/step - loss: 0.5924 - val_loss: 0.6081\n",
      "Epoch 22/40\n",
      "8760/8760 [==============================] - 1s 63us/step - loss: 0.5917 - val_loss: 0.6075\n",
      "Epoch 23/40\n",
      "8760/8760 [==============================] - 1s 63us/step - loss: 0.5911 - val_loss: 0.6069\n",
      "Epoch 24/40\n",
      "8760/8760 [==============================] - 1s 62us/step - loss: 0.5904 - val_loss: 0.6065\n",
      "Epoch 25/40\n",
      "8760/8760 [==============================] - 1s 61us/step - loss: 0.5899 - val_loss: 0.6060\n",
      "Epoch 26/40\n",
      "8760/8760 [==============================] - 1s 61us/step - loss: 0.5893 - val_loss: 0.6055\n",
      "Epoch 27/40\n",
      "8760/8760 [==============================] - 1s 63us/step - loss: 0.5887 - val_loss: 0.6050\n",
      "Epoch 28/40\n",
      "8760/8760 [==============================] - 1s 61us/step - loss: 0.5881 - val_loss: 0.6046\n",
      "Epoch 29/40\n",
      "8760/8760 [==============================] - 1s 61us/step - loss: 0.5875 - val_loss: 0.6041\n",
      "Epoch 30/40\n",
      "8760/8760 [==============================] - 1s 61us/step - loss: 0.5870 - val_loss: 0.6037\n",
      "Epoch 31/40\n",
      "8760/8760 [==============================] - 1s 60us/step - loss: 0.5865 - val_loss: 0.6033\n",
      "Epoch 32/40\n",
      "8760/8760 [==============================] - 1s 60us/step - loss: 0.5860 - val_loss: 0.6030\n",
      "Epoch 33/40\n",
      "8760/8760 [==============================] - 1s 61us/step - loss: 0.5855 - val_loss: 0.6028\n",
      "Epoch 34/40\n",
      "8760/8760 [==============================] - 1s 61us/step - loss: 0.5850 - val_loss: 0.6025\n",
      "Epoch 35/40\n",
      "8760/8760 [==============================] - 1s 63us/step - loss: 0.5846 - val_loss: 0.6022\n",
      "Epoch 36/40\n",
      "8760/8760 [==============================] - 1s 60us/step - loss: 0.5841 - val_loss: 0.6019\n",
      "Epoch 37/40\n",
      "8760/8760 [==============================] - 1s 60us/step - loss: 0.5837 - val_loss: 0.6016\n",
      "Epoch 38/40\n",
      "8760/8760 [==============================] - 1s 66us/step - loss: 0.5833 - val_loss: 0.6013\n",
      "Epoch 39/40\n",
      "8760/8760 [==============================] - 1s 64us/step - loss: 0.5829 - val_loss: 0.6011\n",
      "Epoch 40/40\n",
      "8760/8760 [==============================] - 1s 67us/step - loss: 0.5825 - val_loss: 0.6010\n"
     ]
    }
   ],
   "source": [
    "# design network\n",
    "model = Sequential()\n",
    "model.add(LSTM(4, input_shape=(train_X.shape[1], train_X.shape[2])))\n",
    "model.add(Dense(1))\n",
    "model.compile(loss='mae', optimizer='adam')\n",
    "# fit network\n",
    "history = model.fit(train_X, train_y, epochs=40, batch_size=72, validation_data=(test_X, test_y), verbose=1, shuffle=False)\n"
   ]
  },
  {
   "cell_type": "code",
   "execution_count": 189,
   "metadata": {},
   "outputs": [],
   "source": [
    "model.optimizer.lr = 0.001"
   ]
  },
  {
   "cell_type": "code",
   "execution_count": 190,
   "metadata": {},
   "outputs": [
    {
     "name": "stdout",
     "output_type": "stream",
     "text": [
      "Train on 8760 samples, validate on 17736 samples\n",
      "Epoch 1/5\n",
      "8760/8760 [==============================] - 1s 66us/step - loss: 0.5821 - val_loss: 0.6008\n",
      "Epoch 2/5\n",
      "8760/8760 [==============================] - 1s 66us/step - loss: 0.5817 - val_loss: 0.6006\n",
      "Epoch 3/5\n",
      "8760/8760 [==============================] - 1s 68us/step - loss: 0.5812 - val_loss: 0.6004\n",
      "Epoch 4/5\n",
      "8760/8760 [==============================] - 1s 88us/step - loss: 0.5809 - val_loss: 0.6002\n",
      "Epoch 5/5\n",
      "8760/8760 [==============================] - 1s 62us/step - loss: 0.5805 - val_loss: 0.6001\n"
     ]
    },
    {
     "data": {
      "text/plain": [
       "<keras.callbacks.History at 0x194a3461908>"
      ]
     },
     "execution_count": 190,
     "metadata": {},
     "output_type": "execute_result"
    }
   ],
   "source": [
    "model.fit(train_X, train_y, epochs=5, batch_size=72, validation_data=(test_X, test_y), verbose=1, shuffle=False)"
   ]
  },
  {
   "cell_type": "code",
   "execution_count": 178,
   "metadata": {},
   "outputs": [
    {
     "name": "stdout",
     "output_type": "stream",
     "text": [
      "Train on 8760 samples, validate on 17736 samples\n",
      "Epoch 1/5\n",
      "8760/8760 [==============================] - 1s 63us/step - loss: 0.5768 - val_loss: 0.5865\n",
      "Epoch 2/5\n",
      "8760/8760 [==============================] - 1s 69us/step - loss: 0.5766 - val_loss: 0.5866\n",
      "Epoch 3/5\n",
      "8760/8760 [==============================] - 0s 57us/step - loss: 0.5763 - val_loss: 0.5867\n",
      "Epoch 4/5\n",
      "8760/8760 [==============================] - 1s 58us/step - loss: 0.5761 - val_loss: 0.5868\n",
      "Epoch 5/5\n",
      "8760/8760 [==============================] - 1s 58us/step - loss: 0.5759 - val_loss: 0.5870\n"
     ]
    },
    {
     "data": {
      "text/plain": [
       "<keras.callbacks.History at 0x194a3493f98>"
      ]
     },
     "execution_count": 178,
     "metadata": {},
     "output_type": "execute_result"
    }
   ],
   "source": [
    "model.fit(train_X, train_y, epochs=5, batch_size=72, validation_data=(test_X, test_y), verbose=1, shuffle=False)"
   ]
  },
  {
   "cell_type": "code",
   "execution_count": 179,
   "metadata": {},
   "outputs": [
    {
     "name": "stdout",
     "output_type": "stream",
     "text": [
      "Train on 8760 samples, validate on 17736 samples\n",
      "Epoch 1/10\n",
      "8760/8760 [==============================] - 1s 60us/step - loss: 0.5757 - val_loss: 0.5871\n",
      "Epoch 2/10\n",
      "8760/8760 [==============================] - 1s 66us/step - loss: 0.5755 - val_loss: 0.5873\n",
      "Epoch 3/10\n",
      "8760/8760 [==============================] - 1s 69us/step - loss: 0.5753 - val_loss: 0.5874\n",
      "Epoch 4/10\n",
      "8760/8760 [==============================] - 1s 58us/step - loss: 0.5752 - val_loss: 0.5875\n",
      "Epoch 5/10\n",
      "8760/8760 [==============================] - 1s 77us/step - loss: 0.5750 - val_loss: 0.5876\n",
      "Epoch 6/10\n",
      "8760/8760 [==============================] - 1s 59us/step - loss: 0.5749 - val_loss: 0.5878\n",
      "Epoch 7/10\n",
      "8760/8760 [==============================] - 1s 76us/step - loss: 0.5747 - val_loss: 0.5879\n",
      "Epoch 8/10\n",
      "8760/8760 [==============================] - 1s 64us/step - loss: 0.5746 - val_loss: 0.5879\n",
      "Epoch 9/10\n",
      "8760/8760 [==============================] - 1s 63us/step - loss: 0.5745 - val_loss: 0.5880\n",
      "Epoch 10/10\n",
      "8760/8760 [==============================] - 1s 65us/step - loss: 0.5743 - val_loss: 0.5881\n"
     ]
    },
    {
     "data": {
      "text/plain": [
       "<keras.callbacks.History at 0x194a3460e80>"
      ]
     },
     "execution_count": 179,
     "metadata": {},
     "output_type": "execute_result"
    }
   ],
   "source": [
    "model.fit(train_X, train_y, epochs=10, batch_size=72, validation_data=(test_X, test_y), verbose=1, shuffle=False)"
   ]
  },
  {
   "cell_type": "code",
   "execution_count": null,
   "metadata": {
    "collapsed": true
   },
   "outputs": [],
   "source": []
  },
  {
   "cell_type": "code",
   "execution_count": 180,
   "metadata": {},
   "outputs": [
    {
     "data": {
      "image/png": "[encoded data removed]",
      "text/plain": [
       "<matplotlib.figure.Figure at 0x194a348f198>"
      ]
     },
     "metadata": {},
     "output_type": "display_data"
    }
   ],
   "source": [
    "# plot history\n",
    "plt.plot(history.history['loss'], label='train')\n",
    "plt.plot(history.history['val_loss'], label='test')\n",
    "plt.legend()\n",
    "plt.show()"
   ]
  },
  {
   "cell_type": "code",
   "execution_count": 182,
   "metadata": {},
   "outputs": [
    {
     "name": "stdout",
     "output_type": "stream",
     "text": [
      "_________________________________________________________________\n",
      "Layer (type)                 Output Shape              Param #   \n",
      "=================================================================\n",
      "lstm_5 (LSTM)                (None, 4)                 192       \n",
      "_________________________________________________________________\n",
      "dense_5 (Dense)              (None, 1)                 5         \n",
      "=================================================================\n",
      "Total params: 197\n",
      "Trainable params: 197\n",
      "Non-trainable params: 0\n",
      "_________________________________________________________________\n"
     ]
    }
   ],
   "source": [
    "model.summary()"
   ]
  },
  {
   "cell_type": "code",
   "execution_count": 183,
   "metadata": {},
   "outputs": [
    {
     "data": {
      "text/plain": [
       "2"
      ]
     },
     "execution_count": 183,
     "metadata": {},
     "output_type": "execute_result"
    }
   ],
   "source": [
    "len(model.layers)"
   ]
  },
  {
   "cell_type": "code",
   "execution_count": 184,
   "metadata": {},
   "outputs": [
    {
     "data": {
      "text/plain": [
       "['__call__',\n",
       " '__class__',\n",
       " '__delattr__',\n",
       " '__dict__',\n",
       " '__dir__',\n",
       " '__doc__',\n",
       " '__eq__',\n",
       " '__format__',\n",
       " '__ge__',\n",
       " '__getattribute__',\n",
       " '__gt__',\n",
       " '__hash__',\n",
       " '__init__',\n",
       " '__init_subclass__',\n",
       " '__le__',\n",
       " '__lt__',\n",
       " '__module__',\n",
       " '__ne__',\n",
       " '__new__',\n",
       " '__reduce__',\n",
       " '__reduce_ex__',\n",
       " '__repr__',\n",
       " '__setattr__',\n",
       " '__sizeof__',\n",
       " '__str__',\n",
       " '__subclasshook__',\n",
       " '__weakref__',\n",
       " '_add_inbound_node',\n",
       " '_built',\n",
       " '_check_num_samples',\n",
       " '_check_trainable_weights_consistency',\n",
       " '_container_nodes',\n",
       " '_feed_input_names',\n",
       " '_feed_inputs',\n",
       " '_fit_loop',\n",
       " '_flattened_layers',\n",
       " '_gather_list_attr',\n",
       " '_get_node_attribute_at_index',\n",
       " '_inbound_nodes',\n",
       " '_initial_weights',\n",
       " '_make_predict_function',\n",
       " '_make_test_function',\n",
       " '_make_train_function',\n",
       " '_node_key',\n",
       " '_nodes_by_depth',\n",
       " '_outbound_nodes',\n",
       " '_output_mask_cache',\n",
       " '_output_shape_cache',\n",
       " '_output_tensor_cache',\n",
       " '_predict_loop',\n",
       " '_standardize_user_data',\n",
       " '_test_loop',\n",
       " '_trainable',\n",
       " '_updated_config',\n",
       " 'add',\n",
       " 'add_loss',\n",
       " 'add_update',\n",
       " 'add_weight',\n",
       " 'assert_input_compatibility',\n",
       " 'build',\n",
       " 'built',\n",
       " 'call',\n",
       " 'compile',\n",
       " 'compute_mask',\n",
       " 'compute_output_shape',\n",
       " 'count_params',\n",
       " 'evaluate',\n",
       " 'evaluate_generator',\n",
       " 'fit',\n",
       " 'fit_generator',\n",
       " 'from_config',\n",
       " 'get_config',\n",
       " 'get_input_at',\n",
       " 'get_input_mask_at',\n",
       " 'get_input_shape_at',\n",
       " 'get_layer',\n",
       " 'get_losses_for',\n",
       " 'get_output_at',\n",
       " 'get_output_mask_at',\n",
       " 'get_output_shape_at',\n",
       " 'get_updates_for',\n",
       " 'get_weights',\n",
       " 'input',\n",
       " 'input_layers',\n",
       " 'input_layers_node_indices',\n",
       " 'input_layers_tensor_indices',\n",
       " 'input_mask',\n",
       " 'input_names',\n",
       " 'input_shape',\n",
       " 'input_spec',\n",
       " 'inputs',\n",
       " 'layers',\n",
       " 'legacy_from_config',\n",
       " 'legacy_get_config',\n",
       " 'load_weights',\n",
       " 'loss',\n",
       " 'loss_weights',\n",
       " 'losses',\n",
       " 'metrics',\n",
       " 'metrics_names',\n",
       " 'metrics_tensors',\n",
       " 'model',\n",
       " 'name',\n",
       " 'non_trainable_weights',\n",
       " 'optimizer',\n",
       " 'output',\n",
       " 'output_layers',\n",
       " 'output_layers_node_indices',\n",
       " 'output_layers_tensor_indices',\n",
       " 'output_mask',\n",
       " 'output_names',\n",
       " 'output_shape',\n",
       " 'outputs',\n",
       " 'pop',\n",
       " 'predict',\n",
       " 'predict_classes',\n",
       " 'predict_generator',\n",
       " 'predict_on_batch',\n",
       " 'predict_proba',\n",
       " 'regularizers',\n",
       " 'reset_states',\n",
       " 'run_internal_graph',\n",
       " 'sample_weight_mode',\n",
       " 'sample_weights',\n",
       " 'save',\n",
       " 'save_weights',\n",
       " 'set_weights',\n",
       " 'state_updates',\n",
       " 'stateful',\n",
       " 'stop_training',\n",
       " 'summary',\n",
       " 'supports_masking',\n",
       " 'targets',\n",
       " 'test_on_batch',\n",
       " 'to_json',\n",
       " 'to_yaml',\n",
       " 'total_loss',\n",
       " 'train_on_batch',\n",
       " 'trainable',\n",
       " 'trainable_weights',\n",
       " 'updates',\n",
       " 'uses_learning_phase',\n",
       " 'weighted_metrics',\n",
       " 'weights']"
      ]
     },
     "execution_count": 184,
     "metadata": {},
     "output_type": "execute_result"
    }
   ],
   "source": [
    "dir(model)"
   ]
  },
  {
   "cell_type": "code",
   "execution_count": 187,
   "metadata": {},
   "outputs": [
    {
     "data": {
      "text/plain": [
       "[<tf.Variable 'lstm_5/kernel:0' shape=(7, 16) dtype=float32_ref>,\n",
       " <tf.Variable 'lstm_5/recurrent_kernel:0' shape=(4, 16) dtype=float32_ref>,\n",
       " <tf.Variable 'lstm_5/bias:0' shape=(16,) dtype=float32_ref>,\n",
       " <tf.Variable 'dense_5/kernel:0' shape=(4, 1) dtype=float32_ref>,\n",
       " <tf.Variable 'dense_5/bias:0' shape=(1,) dtype=float32_ref>]"
      ]
     },
     "execution_count": 187,
     "metadata": {},
     "output_type": "execute_result"
    }
   ],
   "source": [
    "model.weights"
   ]
  },
  {
   "cell_type": "code",
   "execution_count": 169,
   "metadata": {},
   "outputs": [
    {
     "name": "stdout",
     "output_type": "stream",
     "text": [
      "(8760, 1, 7) (8760,) (17736, 1, 7) (17736,)\n"
     ]
    }
   ],
   "source": [
    "# A reminder of how this is done \n",
    "n_train_hours = 365 * 24 \n",
    "train = values.iloc[:n_train_hours, :]\n",
    "test = values.iloc[n_train_hours:, :]\n",
    "# split into input and outputs\n",
    "train_X, train_y = train.iloc[:, :-1], train.iloc[:, -1]\n",
    "test_X, test_y = test.iloc[:, :-1], test.iloc[:, -1]\n",
    "# reshape input to be 3D [samples, timesteps, features]\n",
    "train_X = train_X.values.reshape((train_X.shape[0], 1, train_X.shape[1]))\n",
    "test_X = test_X.values.reshape((test_X.shape[0], 1, test_X.shape[1]))\n",
    "print(train_X.shape, train_y.shape, test_X.shape, test_y.shape)"
   ]
  },
  {
   "cell_type": "markdown",
   "metadata": {},
   "source": [
    "Rename the variables to make this step more repeatable... "
   ]
  },
  {
   "cell_type": "code",
   "execution_count": 162,
   "metadata": {
    "collapsed": true
   },
   "outputs": [],
   "source": [
    "from sklearn.metrics import mean_squared_error, r2_score"
   ]
  },
  {
   "cell_type": "code",
   "execution_count": 163,
   "metadata": {},
   "outputs": [
    {
     "name": "stdout",
     "output_type": "stream",
     "text": [
      "Test RMSE: 7.461\n",
      "Test R2 : 23.299\n"
     ]
    },
    {
     "name": "stderr",
     "output_type": "stream",
     "text": [
      "C:\\Users\\board\\Anaconda3\\lib\\site-packages\\ipykernel_launcher.py:9: FutureWarning: reshape is deprecated and will raise in a subsequent release. Please use .values.reshape(...) instead\n",
      "  if __name__ == '__main__':\n"
     ]
    }
   ],
   "source": [
    "# make a prediction\n",
    "yhat = model.predict(test_X)\n",
    "test_X = test_X.reshape((test_X.shape[0], test_X.shape[2]))\n",
    "# invert scaling for forecast\n",
    "inv_yhat = np.concatenate((yhat, test_X), axis=1)\n",
    "inv_yhat = scaler.inverse_transform(inv_yhat)\n",
    "inv_yhat = inv_yhat[:,0]\n",
    "# invert scaling for actual\n",
    "test_y = test_y.reshape((len(test_y), 1))\n",
    "inv_y = np.concatenate((test_y, test_X), axis=1)\n",
    "inv_y = scaler.inverse_transform(inv_y)\n",
    "inv_y = inv_y[:,0]\n",
    "# calculate RMSE\n",
    "rmse = np.sqrt(mean_squared_error(inv_y, inv_yhat))\n",
    "r2 = r2_score(inv_y, inv_yhat) *100 \n",
    "print('Test RMSE: %.3f' % rmse)\n",
    "print(\"Test R2 : %.3f\" % r2)"
   ]
  },
  {
   "cell_type": "code",
   "execution_count": null,
   "metadata": {
    "collapsed": true
   },
   "outputs": [],
   "source": []
  },
  {
   "cell_type": "code",
   "execution_count": null,
   "metadata": {
    "collapsed": true
   },
   "outputs": [],
   "source": []
  }
 ],
 "metadata": {
  "kernelspec": {
   "display_name": "Python 3",
   "language": "python",
   "name": "python3"
  },
  "language_info": {
   "codemirror_mode": {
    "name": "ipython",
    "version": 3
   },
   "file_extension": ".py",
   "mimetype": "text/x-python",
   "name": "python",
   "nbconvert_exporter": "python",
   "pygments_lexer": "ipython3",
   "version": "3.6.3"
  }
 },
 "nbformat": 4,
 "nbformat_minor": 2
}
